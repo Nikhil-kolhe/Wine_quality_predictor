{
 "cells": [
  {
   "cell_type": "markdown",
   "metadata": {
    "papermill": {
     "duration": 0.025539,
     "end_time": "2020-10-03T16:52:05.199767",
     "exception": false,
     "start_time": "2020-10-03T16:52:05.174228",
     "status": "completed"
    },
    "tags": []
   },
   "source": [
    "# Task for Today  \n",
    "\n",
    "***\n",
    "\n",
    "## White Wine Quality Prediction  \n",
    "\n",
    "Given *data about various white wines*, let's try to predict the **quality** of a particular wine, according to experts.  \n",
    "  \n",
    "We will use a TensorFlow ANN to make our predictions."
   ]
  },
  {
   "cell_type": "markdown",
   "metadata": {
    "papermill": {
     "duration": 0.023578,
     "end_time": "2020-10-03T16:52:05.248226",
     "exception": false,
     "start_time": "2020-10-03T16:52:05.224648",
     "status": "completed"
    },
    "tags": []
   },
   "source": [
    "# Getting Started"
   ]
  },
  {
   "cell_type": "code",
   "execution_count": 1,
   "metadata": {
    "_cell_guid": "79c7e3d0-c299-4dcb-8224-4455121ee9b0",
    "_uuid": "d629ff2d2480ee46fbb7e2d37f6b5fab8052498a",
    "execution": {
     "iopub.execute_input": "2020-10-03T16:52:05.303905Z",
     "iopub.status.busy": "2020-10-03T16:52:05.303051Z",
     "iopub.status.idle": "2020-10-03T16:52:14.393444Z",
     "shell.execute_reply": "2020-10-03T16:52:14.392534Z"
    },
    "papermill": {
     "duration": 9.121687,
     "end_time": "2020-10-03T16:52:14.393600",
     "exception": false,
     "start_time": "2020-10-03T16:52:05.271913",
     "status": "completed"
    },
    "tags": []
   },
   "outputs": [],
   "source": [
    "import numpy as np\n",
    "import pandas as pd\n",
    "import matplotlib.pyplot as plt\n",
    "import seaborn as sns\n",
    "import plotly.express as px\n",
    "\n",
    "from sklearn.preprocessing import LabelEncoder, StandardScaler\n",
    "from sklearn.model_selection import train_test_split\n",
    "\n",
    "import tensorflow as tf"
   ]
  },
  {
   "cell_type": "code",
   "execution_count": 2,
   "metadata": {
    "execution": {
     "iopub.execute_input": "2020-10-03T16:52:14.455782Z",
     "iopub.status.busy": "2020-10-03T16:52:14.454963Z",
     "iopub.status.idle": "2020-10-03T16:52:14.492889Z",
     "shell.execute_reply": "2020-10-03T16:52:14.492050Z"
    },
    "papermill": {
     "duration": 0.073202,
     "end_time": "2020-10-03T16:52:14.493026",
     "exception": false,
     "start_time": "2020-10-03T16:52:14.419824",
     "status": "completed"
    },
    "tags": []
   },
   "outputs": [],
   "source": [
    "data = pd.read_csv('../input/white-wine-quality/winequality-white.csv', delimiter=';')"
   ]
  },
  {
   "cell_type": "code",
   "execution_count": 3,
   "metadata": {
    "execution": {
     "iopub.execute_input": "2020-10-03T16:52:14.567199Z",
     "iopub.status.busy": "2020-10-03T16:52:14.566182Z",
     "iopub.status.idle": "2020-10-03T16:52:14.589387Z",
     "shell.execute_reply": "2020-10-03T16:52:14.589990Z"
    },
    "papermill": {
     "duration": 0.072819,
     "end_time": "2020-10-03T16:52:14.590174",
     "exception": false,
     "start_time": "2020-10-03T16:52:14.517355",
     "status": "completed"
    },
    "tags": []
   },
   "outputs": [
    {
     "data": {
      "text/html": [
       "<div>\n",
       "<style scoped>\n",
       "    .dataframe tbody tr th:only-of-type {\n",
       "        vertical-align: middle;\n",
       "    }\n",
       "\n",
       "    .dataframe tbody tr th {\n",
       "        vertical-align: top;\n",
       "    }\n",
       "\n",
       "    .dataframe thead th {\n",
       "        text-align: right;\n",
       "    }\n",
       "</style>\n",
       "<table border=\"1\" class=\"dataframe\">\n",
       "  <thead>\n",
       "    <tr style=\"text-align: right;\">\n",
       "      <th></th>\n",
       "      <th>fixed acidity</th>\n",
       "      <th>volatile acidity</th>\n",
       "      <th>citric acid</th>\n",
       "      <th>residual sugar</th>\n",
       "      <th>chlorides</th>\n",
       "      <th>free sulfur dioxide</th>\n",
       "      <th>total sulfur dioxide</th>\n",
       "      <th>density</th>\n",
       "      <th>pH</th>\n",
       "      <th>sulphates</th>\n",
       "      <th>alcohol</th>\n",
       "      <th>quality</th>\n",
       "    </tr>\n",
       "  </thead>\n",
       "  <tbody>\n",
       "    <tr>\n",
       "      <th>0</th>\n",
       "      <td>7.0</td>\n",
       "      <td>0.27</td>\n",
       "      <td>0.36</td>\n",
       "      <td>20.7</td>\n",
       "      <td>0.045</td>\n",
       "      <td>45.0</td>\n",
       "      <td>170.0</td>\n",
       "      <td>1.00100</td>\n",
       "      <td>3.00</td>\n",
       "      <td>0.45</td>\n",
       "      <td>8.8</td>\n",
       "      <td>6</td>\n",
       "    </tr>\n",
       "    <tr>\n",
       "      <th>1</th>\n",
       "      <td>6.3</td>\n",
       "      <td>0.30</td>\n",
       "      <td>0.34</td>\n",
       "      <td>1.6</td>\n",
       "      <td>0.049</td>\n",
       "      <td>14.0</td>\n",
       "      <td>132.0</td>\n",
       "      <td>0.99400</td>\n",
       "      <td>3.30</td>\n",
       "      <td>0.49</td>\n",
       "      <td>9.5</td>\n",
       "      <td>6</td>\n",
       "    </tr>\n",
       "    <tr>\n",
       "      <th>2</th>\n",
       "      <td>8.1</td>\n",
       "      <td>0.28</td>\n",
       "      <td>0.40</td>\n",
       "      <td>6.9</td>\n",
       "      <td>0.050</td>\n",
       "      <td>30.0</td>\n",
       "      <td>97.0</td>\n",
       "      <td>0.99510</td>\n",
       "      <td>3.26</td>\n",
       "      <td>0.44</td>\n",
       "      <td>10.1</td>\n",
       "      <td>6</td>\n",
       "    </tr>\n",
       "    <tr>\n",
       "      <th>3</th>\n",
       "      <td>7.2</td>\n",
       "      <td>0.23</td>\n",
       "      <td>0.32</td>\n",
       "      <td>8.5</td>\n",
       "      <td>0.058</td>\n",
       "      <td>47.0</td>\n",
       "      <td>186.0</td>\n",
       "      <td>0.99560</td>\n",
       "      <td>3.19</td>\n",
       "      <td>0.40</td>\n",
       "      <td>9.9</td>\n",
       "      <td>6</td>\n",
       "    </tr>\n",
       "    <tr>\n",
       "      <th>4</th>\n",
       "      <td>7.2</td>\n",
       "      <td>0.23</td>\n",
       "      <td>0.32</td>\n",
       "      <td>8.5</td>\n",
       "      <td>0.058</td>\n",
       "      <td>47.0</td>\n",
       "      <td>186.0</td>\n",
       "      <td>0.99560</td>\n",
       "      <td>3.19</td>\n",
       "      <td>0.40</td>\n",
       "      <td>9.9</td>\n",
       "      <td>6</td>\n",
       "    </tr>\n",
       "    <tr>\n",
       "      <th>...</th>\n",
       "      <td>...</td>\n",
       "      <td>...</td>\n",
       "      <td>...</td>\n",
       "      <td>...</td>\n",
       "      <td>...</td>\n",
       "      <td>...</td>\n",
       "      <td>...</td>\n",
       "      <td>...</td>\n",
       "      <td>...</td>\n",
       "      <td>...</td>\n",
       "      <td>...</td>\n",
       "      <td>...</td>\n",
       "    </tr>\n",
       "    <tr>\n",
       "      <th>4893</th>\n",
       "      <td>6.2</td>\n",
       "      <td>0.21</td>\n",
       "      <td>0.29</td>\n",
       "      <td>1.6</td>\n",
       "      <td>0.039</td>\n",
       "      <td>24.0</td>\n",
       "      <td>92.0</td>\n",
       "      <td>0.99114</td>\n",
       "      <td>3.27</td>\n",
       "      <td>0.50</td>\n",
       "      <td>11.2</td>\n",
       "      <td>6</td>\n",
       "    </tr>\n",
       "    <tr>\n",
       "      <th>4894</th>\n",
       "      <td>6.6</td>\n",
       "      <td>0.32</td>\n",
       "      <td>0.36</td>\n",
       "      <td>8.0</td>\n",
       "      <td>0.047</td>\n",
       "      <td>57.0</td>\n",
       "      <td>168.0</td>\n",
       "      <td>0.99490</td>\n",
       "      <td>3.15</td>\n",
       "      <td>0.46</td>\n",
       "      <td>9.6</td>\n",
       "      <td>5</td>\n",
       "    </tr>\n",
       "    <tr>\n",
       "      <th>4895</th>\n",
       "      <td>6.5</td>\n",
       "      <td>0.24</td>\n",
       "      <td>0.19</td>\n",
       "      <td>1.2</td>\n",
       "      <td>0.041</td>\n",
       "      <td>30.0</td>\n",
       "      <td>111.0</td>\n",
       "      <td>0.99254</td>\n",
       "      <td>2.99</td>\n",
       "      <td>0.46</td>\n",
       "      <td>9.4</td>\n",
       "      <td>6</td>\n",
       "    </tr>\n",
       "    <tr>\n",
       "      <th>4896</th>\n",
       "      <td>5.5</td>\n",
       "      <td>0.29</td>\n",
       "      <td>0.30</td>\n",
       "      <td>1.1</td>\n",
       "      <td>0.022</td>\n",
       "      <td>20.0</td>\n",
       "      <td>110.0</td>\n",
       "      <td>0.98869</td>\n",
       "      <td>3.34</td>\n",
       "      <td>0.38</td>\n",
       "      <td>12.8</td>\n",
       "      <td>7</td>\n",
       "    </tr>\n",
       "    <tr>\n",
       "      <th>4897</th>\n",
       "      <td>6.0</td>\n",
       "      <td>0.21</td>\n",
       "      <td>0.38</td>\n",
       "      <td>0.8</td>\n",
       "      <td>0.020</td>\n",
       "      <td>22.0</td>\n",
       "      <td>98.0</td>\n",
       "      <td>0.98941</td>\n",
       "      <td>3.26</td>\n",
       "      <td>0.32</td>\n",
       "      <td>11.8</td>\n",
       "      <td>6</td>\n",
       "    </tr>\n",
       "  </tbody>\n",
       "</table>\n",
       "<p>4898 rows × 12 columns</p>\n",
       "</div>"
      ],
      "text/plain": [
       "      fixed acidity  volatile acidity  citric acid  residual sugar  chlorides  \\\n",
       "0               7.0              0.27         0.36            20.7      0.045   \n",
       "1               6.3              0.30         0.34             1.6      0.049   \n",
       "2               8.1              0.28         0.40             6.9      0.050   \n",
       "3               7.2              0.23         0.32             8.5      0.058   \n",
       "4               7.2              0.23         0.32             8.5      0.058   \n",
       "...             ...               ...          ...             ...        ...   \n",
       "4893            6.2              0.21         0.29             1.6      0.039   \n",
       "4894            6.6              0.32         0.36             8.0      0.047   \n",
       "4895            6.5              0.24         0.19             1.2      0.041   \n",
       "4896            5.5              0.29         0.30             1.1      0.022   \n",
       "4897            6.0              0.21         0.38             0.8      0.020   \n",
       "\n",
       "      free sulfur dioxide  total sulfur dioxide  density    pH  sulphates  \\\n",
       "0                    45.0                 170.0  1.00100  3.00       0.45   \n",
       "1                    14.0                 132.0  0.99400  3.30       0.49   \n",
       "2                    30.0                  97.0  0.99510  3.26       0.44   \n",
       "3                    47.0                 186.0  0.99560  3.19       0.40   \n",
       "4                    47.0                 186.0  0.99560  3.19       0.40   \n",
       "...                   ...                   ...      ...   ...        ...   \n",
       "4893                 24.0                  92.0  0.99114  3.27       0.50   \n",
       "4894                 57.0                 168.0  0.99490  3.15       0.46   \n",
       "4895                 30.0                 111.0  0.99254  2.99       0.46   \n",
       "4896                 20.0                 110.0  0.98869  3.34       0.38   \n",
       "4897                 22.0                  98.0  0.98941  3.26       0.32   \n",
       "\n",
       "      alcohol  quality  \n",
       "0         8.8        6  \n",
       "1         9.5        6  \n",
       "2        10.1        6  \n",
       "3         9.9        6  \n",
       "4         9.9        6  \n",
       "...       ...      ...  \n",
       "4893     11.2        6  \n",
       "4894      9.6        5  \n",
       "4895      9.4        6  \n",
       "4896     12.8        7  \n",
       "4897     11.8        6  \n",
       "\n",
       "[4898 rows x 12 columns]"
      ]
     },
     "execution_count": 3,
     "metadata": {},
     "output_type": "execute_result"
    }
   ],
   "source": [
    "data"
   ]
  },
  {
   "cell_type": "markdown",
   "metadata": {
    "papermill": {
     "duration": 0.025103,
     "end_time": "2020-10-03T16:52:14.641079",
     "exception": false,
     "start_time": "2020-10-03T16:52:14.615976",
     "status": "completed"
    },
    "tags": []
   },
   "source": [
    "# Visualization"
   ]
  },
  {
   "cell_type": "code",
   "execution_count": 4,
   "metadata": {
    "execution": {
     "iopub.execute_input": "2020-10-03T16:52:14.701040Z",
     "iopub.status.busy": "2020-10-03T16:52:14.700069Z",
     "iopub.status.idle": "2020-10-03T16:52:15.625454Z",
     "shell.execute_reply": "2020-10-03T16:52:15.626078Z"
    },
    "papermill": {
     "duration": 0.959394,
     "end_time": "2020-10-03T16:52:15.626282",
     "exception": false,
     "start_time": "2020-10-03T16:52:14.666888",
     "status": "completed"
    },
    "tags": []
   },
   "outputs": [
    {
     "data": {
      "image/png": "[encoded data removed]",
      "text/plain": [
       "<Figure size 864x720 with 2 Axes>"
      ]
     },
     "metadata": {
      "needs_background": "light"
     },
     "output_type": "display_data"
    }
   ],
   "source": [
    "corr = data.corr()\n",
    "\n",
    "plt.figure(figsize=(12, 10))\n",
    "sns.heatmap(corr, annot=True, vmin=-1.0, vmax=1.0)\n",
    "plt.show()"
   ]
  },
  {
   "cell_type": "markdown",
   "metadata": {
    "papermill": {
     "duration": 0.028182,
     "end_time": "2020-10-03T16:52:15.683232",
     "exception": false,
     "start_time": "2020-10-03T16:52:15.655050",
     "status": "completed"
    },
    "tags": []
   },
   "source": [
    "# Preprocessing"
   ]
  },
  {
   "cell_type": "code",
   "execution_count": 5,
   "metadata": {
    "execution": {
     "iopub.execute_input": "2020-10-03T16:52:15.761184Z",
     "iopub.status.busy": "2020-10-03T16:52:15.746509Z",
     "iopub.status.idle": "2020-10-03T16:52:15.766463Z",
     "shell.execute_reply": "2020-10-03T16:52:15.767365Z"
    },
    "papermill": {
     "duration": 0.056087,
     "end_time": "2020-10-03T16:52:15.767641",
     "exception": false,
     "start_time": "2020-10-03T16:52:15.711554",
     "status": "completed"
    },
    "tags": []
   },
   "outputs": [
    {
     "name": "stdout",
     "output_type": "stream",
     "text": [
      "<class 'pandas.core.frame.DataFrame'>\n",
      "RangeIndex: 4898 entries, 0 to 4897\n",
      "Data columns (total 12 columns):\n",
      " #   Column                Non-Null Count  Dtype  \n",
      "---  ------                --------------  -----  \n",
      " 0   fixed acidity         4898 non-null   float64\n",
      " 1   volatile acidity      4898 non-null   float64\n",
      " 2   citric acid           4898 non-null   float64\n",
      " 3   residual sugar        4898 non-null   float64\n",
      " 4   chlorides             4898 non-null   float64\n",
      " 5   free sulfur dioxide   4898 non-null   float64\n",
      " 6   total sulfur dioxide  4898 non-null   float64\n",
      " 7   density               4898 non-null   float64\n",
      " 8   pH                    4898 non-null   float64\n",
      " 9   sulphates             4898 non-null   float64\n",
      " 10  alcohol               4898 non-null   float64\n",
      " 11  quality               4898 non-null   int64  \n",
      "dtypes: float64(11), int64(1)\n",
      "memory usage: 459.3 KB\n"
     ]
    }
   ],
   "source": [
    "data.info()"
   ]
  },
  {
   "cell_type": "code",
   "execution_count": 6,
   "metadata": {
    "execution": {
     "iopub.execute_input": "2020-10-03T16:52:15.834957Z",
     "iopub.status.busy": "2020-10-03T16:52:15.834188Z",
     "iopub.status.idle": "2020-10-03T16:52:15.841562Z",
     "shell.execute_reply": "2020-10-03T16:52:15.840788Z"
    },
    "papermill": {
     "duration": 0.044282,
     "end_time": "2020-10-03T16:52:15.841699",
     "exception": false,
     "start_time": "2020-10-03T16:52:15.797417",
     "status": "completed"
    },
    "tags": []
   },
   "outputs": [
    {
     "name": "stdout",
     "output_type": "stream",
     "text": [
      "Total null values: 0\n"
     ]
    }
   ],
   "source": [
    "print(\"Total null values:\", data.isna().sum().sum())"
   ]
  },
  {
   "cell_type": "code",
   "execution_count": 7,
   "metadata": {
    "execution": {
     "iopub.execute_input": "2020-10-03T16:52:15.910163Z",
     "iopub.status.busy": "2020-10-03T16:52:15.909305Z",
     "iopub.status.idle": "2020-10-03T16:52:15.915266Z",
     "shell.execute_reply": "2020-10-03T16:52:15.914453Z"
    },
    "papermill": {
     "duration": 0.043662,
     "end_time": "2020-10-03T16:52:15.915403",
     "exception": false,
     "start_time": "2020-10-03T16:52:15.871741",
     "status": "completed"
    },
    "tags": []
   },
   "outputs": [
    {
     "data": {
      "text/plain": [
       "array([6, 5, 7, 8, 4, 3, 9])"
      ]
     },
     "execution_count": 7,
     "metadata": {},
     "output_type": "execute_result"
    }
   ],
   "source": [
    "data['quality'].unique()"
   ]
  },
  {
   "cell_type": "code",
   "execution_count": 8,
   "metadata": {
    "execution": {
     "iopub.execute_input": "2020-10-03T16:52:15.986751Z",
     "iopub.status.busy": "2020-10-03T16:52:15.984747Z",
     "iopub.status.idle": "2020-10-03T16:52:15.992767Z",
     "shell.execute_reply": "2020-10-03T16:52:15.991984Z"
    },
    "papermill": {
     "duration": 0.046867,
     "end_time": "2020-10-03T16:52:15.992905",
     "exception": false,
     "start_time": "2020-10-03T16:52:15.946038",
     "status": "completed"
    },
    "tags": []
   },
   "outputs": [
    {
     "data": {
      "text/plain": [
       "{0: 3, 1: 4, 2: 5, 3: 6, 4: 7, 5: 8, 6: 9}"
      ]
     },
     "execution_count": 8,
     "metadata": {},
     "output_type": "execute_result"
    }
   ],
   "source": [
    "encoder = LabelEncoder()\n",
    "\n",
    "data['quality'] = encoder.fit_transform(data['quality'])\n",
    "{index: label for index, label in enumerate(encoder.classes_)}"
   ]
  },
  {
   "cell_type": "code",
   "execution_count": 9,
   "metadata": {
    "execution": {
     "iopub.execute_input": "2020-10-03T16:52:16.066471Z",
     "iopub.status.busy": "2020-10-03T16:52:16.065418Z",
     "iopub.status.idle": "2020-10-03T16:52:16.069405Z",
     "shell.execute_reply": "2020-10-03T16:52:16.068613Z"
    },
    "papermill": {
     "duration": 0.045219,
     "end_time": "2020-10-03T16:52:16.069544",
     "exception": false,
     "start_time": "2020-10-03T16:52:16.024325",
     "status": "completed"
    },
    "tags": []
   },
   "outputs": [],
   "source": [
    "y = data['quality']\n",
    "X = data.drop('quality', axis=1)"
   ]
  },
  {
   "cell_type": "code",
   "execution_count": 10,
   "metadata": {
    "execution": {
     "iopub.execute_input": "2020-10-03T16:52:16.142067Z",
     "iopub.status.busy": "2020-10-03T16:52:16.140899Z",
     "iopub.status.idle": "2020-10-03T16:52:16.150338Z",
     "shell.execute_reply": "2020-10-03T16:52:16.149498Z"
    },
    "papermill": {
     "duration": 0.049951,
     "end_time": "2020-10-03T16:52:16.150477",
     "exception": false,
     "start_time": "2020-10-03T16:52:16.100526",
     "status": "completed"
    },
    "tags": []
   },
   "outputs": [],
   "source": [
    "scaler = StandardScaler()\n",
    "\n",
    "X = pd.DataFrame(scaler.fit_transform(X), columns=X.columns)"
   ]
  },
  {
   "cell_type": "code",
   "execution_count": 11,
   "metadata": {
    "execution": {
     "iopub.execute_input": "2020-10-03T16:52:16.238581Z",
     "iopub.status.busy": "2020-10-03T16:52:16.237598Z",
     "iopub.status.idle": "2020-10-03T16:52:16.243654Z",
     "shell.execute_reply": "2020-10-03T16:52:16.242888Z"
    },
    "papermill": {
     "duration": 0.061737,
     "end_time": "2020-10-03T16:52:16.243781",
     "exception": false,
     "start_time": "2020-10-03T16:52:16.182044",
     "status": "completed"
    },
    "tags": []
   },
   "outputs": [
    {
     "data": {
      "text/html": [
       "<div>\n",
       "<style scoped>\n",
       "    .dataframe tbody tr th:only-of-type {\n",
       "        vertical-align: middle;\n",
       "    }\n",
       "\n",
       "    .dataframe tbody tr th {\n",
       "        vertical-align: top;\n",
       "    }\n",
       "\n",
       "    .dataframe thead th {\n",
       "        text-align: right;\n",
       "    }\n",
       "</style>\n",
       "<table border=\"1\" class=\"dataframe\">\n",
       "  <thead>\n",
       "    <tr style=\"text-align: right;\">\n",
       "      <th></th>\n",
       "      <th>fixed acidity</th>\n",
       "      <th>volatile acidity</th>\n",
       "      <th>citric acid</th>\n",
       "      <th>residual sugar</th>\n",
       "      <th>chlorides</th>\n",
       "      <th>free sulfur dioxide</th>\n",
       "      <th>total sulfur dioxide</th>\n",
       "      <th>density</th>\n",
       "      <th>pH</th>\n",
       "      <th>sulphates</th>\n",
       "      <th>alcohol</th>\n",
       "    </tr>\n",
       "  </thead>\n",
       "  <tbody>\n",
       "    <tr>\n",
       "      <th>0</th>\n",
       "      <td>0.172097</td>\n",
       "      <td>-0.081770</td>\n",
       "      <td>0.213280</td>\n",
       "      <td>2.821349</td>\n",
       "      <td>-0.035355</td>\n",
       "      <td>0.569932</td>\n",
       "      <td>0.744565</td>\n",
       "      <td>2.331512</td>\n",
       "      <td>-1.246921</td>\n",
       "      <td>-0.349184</td>\n",
       "      <td>-1.393152</td>\n",
       "    </tr>\n",
       "    <tr>\n",
       "      <th>1</th>\n",
       "      <td>-0.657501</td>\n",
       "      <td>0.215896</td>\n",
       "      <td>0.048001</td>\n",
       "      <td>-0.944765</td>\n",
       "      <td>0.147747</td>\n",
       "      <td>-1.253019</td>\n",
       "      <td>-0.149685</td>\n",
       "      <td>-0.009154</td>\n",
       "      <td>0.740029</td>\n",
       "      <td>0.001342</td>\n",
       "      <td>-0.824276</td>\n",
       "    </tr>\n",
       "    <tr>\n",
       "      <th>2</th>\n",
       "      <td>1.475751</td>\n",
       "      <td>0.017452</td>\n",
       "      <td>0.543838</td>\n",
       "      <td>0.100282</td>\n",
       "      <td>0.193523</td>\n",
       "      <td>-0.312141</td>\n",
       "      <td>-0.973336</td>\n",
       "      <td>0.358665</td>\n",
       "      <td>0.475102</td>\n",
       "      <td>-0.436816</td>\n",
       "      <td>-0.336667</td>\n",
       "    </tr>\n",
       "    <tr>\n",
       "      <th>3</th>\n",
       "      <td>0.409125</td>\n",
       "      <td>-0.478657</td>\n",
       "      <td>-0.117278</td>\n",
       "      <td>0.415768</td>\n",
       "      <td>0.559727</td>\n",
       "      <td>0.687541</td>\n",
       "      <td>1.121091</td>\n",
       "      <td>0.525855</td>\n",
       "      <td>0.011480</td>\n",
       "      <td>-0.787342</td>\n",
       "      <td>-0.499203</td>\n",
       "    </tr>\n",
       "    <tr>\n",
       "      <th>4</th>\n",
       "      <td>0.409125</td>\n",
       "      <td>-0.478657</td>\n",
       "      <td>-0.117278</td>\n",
       "      <td>0.415768</td>\n",
       "      <td>0.559727</td>\n",
       "      <td>0.687541</td>\n",
       "      <td>1.121091</td>\n",
       "      <td>0.525855</td>\n",
       "      <td>0.011480</td>\n",
       "      <td>-0.787342</td>\n",
       "      <td>-0.499203</td>\n",
       "    </tr>\n",
       "    <tr>\n",
       "      <th>...</th>\n",
       "      <td>...</td>\n",
       "      <td>...</td>\n",
       "      <td>...</td>\n",
       "      <td>...</td>\n",
       "      <td>...</td>\n",
       "      <td>...</td>\n",
       "      <td>...</td>\n",
       "      <td>...</td>\n",
       "      <td>...</td>\n",
       "      <td>...</td>\n",
       "      <td>...</td>\n",
       "    </tr>\n",
       "    <tr>\n",
       "      <th>4893</th>\n",
       "      <td>-0.776015</td>\n",
       "      <td>-0.677101</td>\n",
       "      <td>-0.365197</td>\n",
       "      <td>-0.944765</td>\n",
       "      <td>-0.310008</td>\n",
       "      <td>-0.664970</td>\n",
       "      <td>-1.091000</td>\n",
       "      <td>-0.965483</td>\n",
       "      <td>0.541334</td>\n",
       "      <td>0.088973</td>\n",
       "      <td>0.557282</td>\n",
       "    </tr>\n",
       "    <tr>\n",
       "      <th>4894</th>\n",
       "      <td>-0.301959</td>\n",
       "      <td>0.414339</td>\n",
       "      <td>0.213280</td>\n",
       "      <td>0.317179</td>\n",
       "      <td>0.056196</td>\n",
       "      <td>1.275590</td>\n",
       "      <td>0.697499</td>\n",
       "      <td>0.291789</td>\n",
       "      <td>-0.253446</td>\n",
       "      <td>-0.261553</td>\n",
       "      <td>-0.743008</td>\n",
       "    </tr>\n",
       "    <tr>\n",
       "      <th>4895</th>\n",
       "      <td>-0.420473</td>\n",
       "      <td>-0.379435</td>\n",
       "      <td>-1.191592</td>\n",
       "      <td>-1.023637</td>\n",
       "      <td>-0.218457</td>\n",
       "      <td>-0.312141</td>\n",
       "      <td>-0.643875</td>\n",
       "      <td>-0.497350</td>\n",
       "      <td>-1.313153</td>\n",
       "      <td>-0.261553</td>\n",
       "      <td>-0.905544</td>\n",
       "    </tr>\n",
       "    <tr>\n",
       "      <th>4896</th>\n",
       "      <td>-1.605613</td>\n",
       "      <td>0.116674</td>\n",
       "      <td>-0.282557</td>\n",
       "      <td>-1.043355</td>\n",
       "      <td>-1.088192</td>\n",
       "      <td>-0.900190</td>\n",
       "      <td>-0.667408</td>\n",
       "      <td>-1.784717</td>\n",
       "      <td>1.004955</td>\n",
       "      <td>-0.962605</td>\n",
       "      <td>1.857572</td>\n",
       "    </tr>\n",
       "    <tr>\n",
       "      <th>4897</th>\n",
       "      <td>-1.013043</td>\n",
       "      <td>-0.677101</td>\n",
       "      <td>0.378559</td>\n",
       "      <td>-1.102508</td>\n",
       "      <td>-1.179743</td>\n",
       "      <td>-0.782580</td>\n",
       "      <td>-0.949803</td>\n",
       "      <td>-1.543962</td>\n",
       "      <td>0.475102</td>\n",
       "      <td>-1.488394</td>\n",
       "      <td>1.044891</td>\n",
       "    </tr>\n",
       "  </tbody>\n",
       "</table>\n",
       "<p>4898 rows × 11 columns</p>\n",
       "</div>"
      ],
      "text/plain": [
       "      fixed acidity  volatile acidity  citric acid  residual sugar  chlorides  \\\n",
       "0          0.172097         -0.081770     0.213280        2.821349  -0.035355   \n",
       "1         -0.657501          0.215896     0.048001       -0.944765   0.147747   \n",
       "2          1.475751          0.017452     0.543838        0.100282   0.193523   \n",
       "3          0.409125         -0.478657    -0.117278        0.415768   0.559727   \n",
       "4          0.409125         -0.478657    -0.117278        0.415768   0.559727   \n",
       "...             ...               ...          ...             ...        ...   \n",
       "4893      -0.776015         -0.677101    -0.365197       -0.944765  -0.310008   \n",
       "4894      -0.301959          0.414339     0.213280        0.317179   0.056196   \n",
       "4895      -0.420473         -0.379435    -1.191592       -1.023637  -0.218457   \n",
       "4896      -1.605613          0.116674    -0.282557       -1.043355  -1.088192   \n",
       "4897      -1.013043         -0.677101     0.378559       -1.102508  -1.179743   \n",
       "\n",
       "      free sulfur dioxide  total sulfur dioxide   density        pH  \\\n",
       "0                0.569932              0.744565  2.331512 -1.246921   \n",
       "1               -1.253019             -0.149685 -0.009154  0.740029   \n",
       "2               -0.312141             -0.973336  0.358665  0.475102   \n",
       "3                0.687541              1.121091  0.525855  0.011480   \n",
       "4                0.687541              1.121091  0.525855  0.011480   \n",
       "...                   ...                   ...       ...       ...   \n",
       "4893            -0.664970             -1.091000 -0.965483  0.541334   \n",
       "4894             1.275590              0.697499  0.291789 -0.253446   \n",
       "4895            -0.312141             -0.643875 -0.497350 -1.313153   \n",
       "4896            -0.900190             -0.667408 -1.784717  1.004955   \n",
       "4897            -0.782580             -0.949803 -1.543962  0.475102   \n",
       "\n",
       "      sulphates   alcohol  \n",
       "0     -0.349184 -1.393152  \n",
       "1      0.001342 -0.824276  \n",
       "2     -0.436816 -0.336667  \n",
       "3     -0.787342 -0.499203  \n",
       "4     -0.787342 -0.499203  \n",
       "...         ...       ...  \n",
       "4893   0.088973  0.557282  \n",
       "4894  -0.261553 -0.743008  \n",
       "4895  -0.261553 -0.905544  \n",
       "4896  -0.962605  1.857572  \n",
       "4897  -1.488394  1.044891  \n",
       "\n",
       "[4898 rows x 11 columns]"
      ]
     },
     "execution_count": 11,
     "metadata": {},
     "output_type": "execute_result"
    }
   ],
   "source": [
    "X"
   ]
  },
  {
   "cell_type": "code",
   "execution_count": 12,
   "metadata": {
    "execution": {
     "iopub.execute_input": "2020-10-03T16:52:16.317106Z",
     "iopub.status.busy": "2020-10-03T16:52:16.316350Z",
     "iopub.status.idle": "2020-10-03T16:52:16.322620Z",
     "shell.execute_reply": "2020-10-03T16:52:16.321825Z"
    },
    "papermill": {
     "duration": 0.045966,
     "end_time": "2020-10-03T16:52:16.322750",
     "exception": false,
     "start_time": "2020-10-03T16:52:16.276784",
     "status": "completed"
    },
    "tags": []
   },
   "outputs": [],
   "source": [
    "X_train, X_test, y_train, y_test = train_test_split(X, y, train_size=0.7, random_state=34)"
   ]
  },
  {
   "cell_type": "markdown",
   "metadata": {
    "papermill": {
     "duration": 0.032098,
     "end_time": "2020-10-03T16:52:16.386972",
     "exception": false,
     "start_time": "2020-10-03T16:52:16.354874",
     "status": "completed"
    },
    "tags": []
   },
   "source": [
    "# Modeling and Training"
   ]
  },
  {
   "cell_type": "code",
   "execution_count": 13,
   "metadata": {
    "execution": {
     "iopub.execute_input": "2020-10-03T16:52:16.462372Z",
     "iopub.status.busy": "2020-10-03T16:52:16.461573Z",
     "iopub.status.idle": "2020-10-03T16:52:16.465584Z",
     "shell.execute_reply": "2020-10-03T16:52:16.464878Z"
    },
    "papermill": {
     "duration": 0.045323,
     "end_time": "2020-10-03T16:52:16.465724",
     "exception": false,
     "start_time": "2020-10-03T16:52:16.420401",
     "status": "completed"
    },
    "tags": []
   },
   "outputs": [
    {
     "name": "stdout",
     "output_type": "stream",
     "text": [
      "11\n"
     ]
    }
   ],
   "source": [
    "num_features = X.shape[1]\n",
    "print(num_features)"
   ]
  },
  {
   "cell_type": "code",
   "execution_count": 14,
   "metadata": {
    "execution": {
     "iopub.execute_input": "2020-10-03T16:52:16.539712Z",
     "iopub.status.busy": "2020-10-03T16:52:16.538727Z",
     "iopub.status.idle": "2020-10-03T16:52:16.543859Z",
     "shell.execute_reply": "2020-10-03T16:52:16.542413Z"
    },
    "papermill": {
     "duration": 0.045675,
     "end_time": "2020-10-03T16:52:16.544055",
     "exception": false,
     "start_time": "2020-10-03T16:52:16.498380",
     "status": "completed"
    },
    "tags": []
   },
   "outputs": [
    {
     "name": "stdout",
     "output_type": "stream",
     "text": [
      "7\n"
     ]
    }
   ],
   "source": [
    "num_classes = len(y.unique())\n",
    "print(num_classes)"
   ]
  },
  {
   "cell_type": "code",
   "execution_count": 15,
   "metadata": {
    "execution": {
     "iopub.execute_input": "2020-10-03T16:52:16.624056Z",
     "iopub.status.busy": "2020-10-03T16:52:16.623253Z",
     "iopub.status.idle": "2020-10-03T16:52:34.632732Z",
     "shell.execute_reply": "2020-10-03T16:52:34.633453Z"
    },
    "papermill": {
     "duration": 18.055681,
     "end_time": "2020-10-03T16:52:34.633645",
     "exception": false,
     "start_time": "2020-10-03T16:52:16.577964",
     "status": "completed"
    },
    "tags": []
   },
   "outputs": [
    {
     "name": "stdout",
     "output_type": "stream",
     "text": [
      "Epoch 1/100\n",
      "86/86 [==============================] - 0s 4ms/step - loss: 1.4505 - accuracy: 0.4424 - val_loss: 1.2278 - val_accuracy: 0.4971\n",
      "Epoch 2/100\n",
      "86/86 [==============================] - 0s 2ms/step - loss: 1.1769 - accuracy: 0.5383 - val_loss: 1.1596 - val_accuracy: 0.5277\n",
      "Epoch 3/100\n",
      "86/86 [==============================] - 0s 2ms/step - loss: 1.1194 - accuracy: 0.5547 - val_loss: 1.1412 - val_accuracy: 0.5146\n",
      "Epoch 4/100\n",
      "86/86 [==============================] - 0s 2ms/step - loss: 1.0874 - accuracy: 0.5609 - val_loss: 1.1149 - val_accuracy: 0.5190\n",
      "Epoch 5/100\n",
      "86/86 [==============================] - 0s 2ms/step - loss: 1.0686 - accuracy: 0.5624 - val_loss: 1.1141 - val_accuracy: 0.5306\n",
      "Epoch 6/100\n",
      "86/86 [==============================] - 0s 2ms/step - loss: 1.0493 - accuracy: 0.5722 - val_loss: 1.1078 - val_accuracy: 0.5248\n",
      "Epoch 7/100\n",
      "86/86 [==============================] - 0s 2ms/step - loss: 1.0402 - accuracy: 0.5667 - val_loss: 1.0841 - val_accuracy: 0.5364\n",
      "Epoch 8/100\n",
      "86/86 [==============================] - 0s 2ms/step - loss: 1.0250 - accuracy: 0.5759 - val_loss: 1.0874 - val_accuracy: 0.5335\n",
      "Epoch 9/100\n",
      "86/86 [==============================] - 0s 2ms/step - loss: 1.0149 - accuracy: 0.5795 - val_loss: 1.0765 - val_accuracy: 0.5292\n",
      "Epoch 10/100\n",
      "86/86 [==============================] - 0s 2ms/step - loss: 1.0048 - accuracy: 0.5828 - val_loss: 1.0738 - val_accuracy: 0.5277\n",
      "Epoch 11/100\n",
      "86/86 [==============================] - 0s 3ms/step - loss: 0.9940 - accuracy: 0.5879 - val_loss: 1.0678 - val_accuracy: 0.5350\n",
      "Epoch 12/100\n",
      "86/86 [==============================] - 0s 2ms/step - loss: 0.9846 - accuracy: 0.5945 - val_loss: 1.0745 - val_accuracy: 0.5525\n",
      "Epoch 13/100\n",
      "86/86 [==============================] - 0s 2ms/step - loss: 0.9765 - accuracy: 0.5977 - val_loss: 1.0762 - val_accuracy: 0.5321\n",
      "Epoch 14/100\n",
      "86/86 [==============================] - 0s 2ms/step - loss: 0.9731 - accuracy: 0.5890 - val_loss: 1.0713 - val_accuracy: 0.5364\n",
      "Epoch 15/100\n",
      "86/86 [==============================] - 0s 2ms/step - loss: 0.9563 - accuracy: 0.6036 - val_loss: 1.0800 - val_accuracy: 0.5335\n",
      "Epoch 16/100\n",
      "86/86 [==============================] - 0s 2ms/step - loss: 0.9534 - accuracy: 0.6003 - val_loss: 1.0624 - val_accuracy: 0.5364\n",
      "Epoch 17/100\n",
      "86/86 [==============================] - 0s 2ms/step - loss: 0.9462 - accuracy: 0.6021 - val_loss: 1.0680 - val_accuracy: 0.5379\n",
      "Epoch 18/100\n",
      "86/86 [==============================] - 0s 2ms/step - loss: 0.9401 - accuracy: 0.6101 - val_loss: 1.0721 - val_accuracy: 0.5306\n",
      "Epoch 19/100\n",
      "86/86 [==============================] - 0s 2ms/step - loss: 0.9305 - accuracy: 0.6134 - val_loss: 1.0660 - val_accuracy: 0.5044\n",
      "Epoch 20/100\n",
      "86/86 [==============================] - 0s 2ms/step - loss: 0.9260 - accuracy: 0.6163 - val_loss: 1.0764 - val_accuracy: 0.5379\n",
      "Epoch 21/100\n",
      "86/86 [==============================] - 0s 2ms/step - loss: 0.9196 - accuracy: 0.6112 - val_loss: 1.0774 - val_accuracy: 0.5335\n",
      "Epoch 22/100\n",
      "86/86 [==============================] - 0s 2ms/step - loss: 0.9108 - accuracy: 0.6156 - val_loss: 1.0679 - val_accuracy: 0.5350\n",
      "Epoch 23/100\n",
      "86/86 [==============================] - 0s 2ms/step - loss: 0.9082 - accuracy: 0.6207 - val_loss: 1.0615 - val_accuracy: 0.5175\n",
      "Epoch 24/100\n",
      "86/86 [==============================] - 0s 2ms/step - loss: 0.8981 - accuracy: 0.6255 - val_loss: 1.0659 - val_accuracy: 0.5292\n",
      "Epoch 25/100\n",
      "86/86 [==============================] - 0s 2ms/step - loss: 0.8922 - accuracy: 0.6320 - val_loss: 1.0803 - val_accuracy: 0.5190\n",
      "Epoch 26/100\n",
      "86/86 [==============================] - 0s 2ms/step - loss: 0.8849 - accuracy: 0.6258 - val_loss: 1.0613 - val_accuracy: 0.5219\n",
      "Epoch 27/100\n",
      "86/86 [==============================] - 0s 2ms/step - loss: 0.8795 - accuracy: 0.6364 - val_loss: 1.0648 - val_accuracy: 0.5233\n",
      "Epoch 28/100\n",
      "86/86 [==============================] - 0s 2ms/step - loss: 0.8742 - accuracy: 0.6371 - val_loss: 1.0840 - val_accuracy: 0.5335\n",
      "Epoch 29/100\n",
      "86/86 [==============================] - 0s 2ms/step - loss: 0.8702 - accuracy: 0.6393 - val_loss: 1.0758 - val_accuracy: 0.5190\n",
      "Epoch 30/100\n",
      "86/86 [==============================] - 0s 2ms/step - loss: 0.8597 - accuracy: 0.6437 - val_loss: 1.0693 - val_accuracy: 0.5219\n",
      "Epoch 31/100\n",
      "86/86 [==============================] - 0s 2ms/step - loss: 0.8565 - accuracy: 0.6433 - val_loss: 1.0681 - val_accuracy: 0.5277\n",
      "Epoch 32/100\n",
      "86/86 [==============================] - 0s 2ms/step - loss: 0.8493 - accuracy: 0.6448 - val_loss: 1.0909 - val_accuracy: 0.5277\n",
      "Epoch 33/100\n",
      "86/86 [==============================] - 0s 2ms/step - loss: 0.8432 - accuracy: 0.6466 - val_loss: 1.0697 - val_accuracy: 0.5233\n",
      "Epoch 34/100\n",
      "86/86 [==============================] - 0s 2ms/step - loss: 0.8391 - accuracy: 0.6492 - val_loss: 1.0636 - val_accuracy: 0.5029\n",
      "Epoch 35/100\n",
      "86/86 [==============================] - 0s 2ms/step - loss: 0.8295 - accuracy: 0.6543 - val_loss: 1.0744 - val_accuracy: 0.5117\n",
      "Epoch 36/100\n",
      "86/86 [==============================] - 0s 2ms/step - loss: 0.8296 - accuracy: 0.6557 - val_loss: 1.0911 - val_accuracy: 0.5335\n",
      "Epoch 37/100\n",
      "86/86 [==============================] - 0s 2ms/step - loss: 0.7990 - accuracy: 0.6692 - val_loss: 1.0716 - val_accuracy: 0.5219\n",
      "Epoch 38/100\n",
      "86/86 [==============================] - 0s 2ms/step - loss: 0.7944 - accuracy: 0.6791 - val_loss: 1.0716 - val_accuracy: 0.5364\n",
      "Epoch 39/100\n",
      "86/86 [==============================] - 0s 2ms/step - loss: 0.7923 - accuracy: 0.6794 - val_loss: 1.0718 - val_accuracy: 0.5379\n",
      "Epoch 40/100\n",
      "86/86 [==============================] - 0s 2ms/step - loss: 0.7912 - accuracy: 0.6776 - val_loss: 1.0725 - val_accuracy: 0.5364\n",
      "Epoch 41/100\n",
      "86/86 [==============================] - 0s 2ms/step - loss: 0.7897 - accuracy: 0.6791 - val_loss: 1.0742 - val_accuracy: 0.5364\n",
      "Epoch 42/100\n",
      "86/86 [==============================] - 0s 2ms/step - loss: 0.7891 - accuracy: 0.6791 - val_loss: 1.0742 - val_accuracy: 0.5408\n",
      "Epoch 43/100\n",
      "86/86 [==============================] - 0s 2ms/step - loss: 0.7886 - accuracy: 0.6813 - val_loss: 1.0745 - val_accuracy: 0.5364\n",
      "Epoch 44/100\n",
      "86/86 [==============================] - 0s 2ms/step - loss: 0.7877 - accuracy: 0.6794 - val_loss: 1.0740 - val_accuracy: 0.5408\n",
      "Epoch 45/100\n",
      "86/86 [==============================] - 0s 2ms/step - loss: 0.7869 - accuracy: 0.6809 - val_loss: 1.0745 - val_accuracy: 0.5408\n",
      "Epoch 46/100\n",
      "86/86 [==============================] - 0s 2ms/step - loss: 0.7859 - accuracy: 0.6823 - val_loss: 1.0773 - val_accuracy: 0.5394\n",
      "Epoch 47/100\n",
      "86/86 [==============================] - 0s 2ms/step - loss: 0.7829 - accuracy: 0.6816 - val_loss: 1.0769 - val_accuracy: 0.5408\n",
      "Epoch 48/100\n",
      "86/86 [==============================] - 0s 2ms/step - loss: 0.7827 - accuracy: 0.6820 - val_loss: 1.0767 - val_accuracy: 0.5408\n",
      "Epoch 49/100\n",
      "86/86 [==============================] - 0s 2ms/step - loss: 0.7826 - accuracy: 0.6823 - val_loss: 1.0761 - val_accuracy: 0.5437\n",
      "Epoch 50/100\n",
      "86/86 [==============================] - 0s 2ms/step - loss: 0.7825 - accuracy: 0.6820 - val_loss: 1.0760 - val_accuracy: 0.5437\n",
      "Epoch 51/100\n",
      "86/86 [==============================] - 0s 2ms/step - loss: 0.7824 - accuracy: 0.6820 - val_loss: 1.0756 - val_accuracy: 0.5437\n",
      "Epoch 52/100\n",
      "86/86 [==============================] - 0s 2ms/step - loss: 0.7824 - accuracy: 0.6823 - val_loss: 1.0756 - val_accuracy: 0.5423\n",
      "Epoch 53/100\n",
      "86/86 [==============================] - 0s 2ms/step - loss: 0.7823 - accuracy: 0.6816 - val_loss: 1.0754 - val_accuracy: 0.5423\n",
      "Epoch 54/100\n",
      "86/86 [==============================] - 0s 2ms/step - loss: 0.7822 - accuracy: 0.6816 - val_loss: 1.0753 - val_accuracy: 0.5437\n",
      "Epoch 55/100\n",
      "86/86 [==============================] - 0s 2ms/step - loss: 0.7821 - accuracy: 0.6827 - val_loss: 1.0754 - val_accuracy: 0.5423\n",
      "Epoch 56/100\n",
      "86/86 [==============================] - 0s 2ms/step - loss: 0.7821 - accuracy: 0.6823 - val_loss: 1.0752 - val_accuracy: 0.5437\n",
      "Epoch 57/100\n",
      "86/86 [==============================] - 0s 2ms/step - loss: 0.7817 - accuracy: 0.6820 - val_loss: 1.0752 - val_accuracy: 0.5437\n",
      "Epoch 58/100\n",
      "86/86 [==============================] - 0s 2ms/step - loss: 0.7817 - accuracy: 0.6820 - val_loss: 1.0752 - val_accuracy: 0.5437\n",
      "Epoch 59/100\n",
      "86/86 [==============================] - 0s 2ms/step - loss: 0.7817 - accuracy: 0.6820 - val_loss: 1.0752 - val_accuracy: 0.5437\n",
      "Epoch 60/100\n",
      "86/86 [==============================] - 0s 2ms/step - loss: 0.7817 - accuracy: 0.6820 - val_loss: 1.0752 - val_accuracy: 0.5437\n",
      "Epoch 61/100\n",
      "86/86 [==============================] - 0s 2ms/step - loss: 0.7816 - accuracy: 0.6820 - val_loss: 1.0752 - val_accuracy: 0.5437\n",
      "Epoch 62/100\n",
      "86/86 [==============================] - 0s 2ms/step - loss: 0.7816 - accuracy: 0.6820 - val_loss: 1.0752 - val_accuracy: 0.5437\n",
      "Epoch 63/100\n",
      "86/86 [==============================] - 0s 2ms/step - loss: 0.7816 - accuracy: 0.6820 - val_loss: 1.0752 - val_accuracy: 0.5437\n",
      "Epoch 64/100\n",
      "86/86 [==============================] - 0s 2ms/step - loss: 0.7816 - accuracy: 0.6823 - val_loss: 1.0752 - val_accuracy: 0.5437\n",
      "Epoch 65/100\n",
      "86/86 [==============================] - 0s 2ms/step - loss: 0.7816 - accuracy: 0.6823 - val_loss: 1.0752 - val_accuracy: 0.5437\n",
      "Epoch 66/100\n",
      "86/86 [==============================] - 0s 2ms/step - loss: 0.7816 - accuracy: 0.6823 - val_loss: 1.0752 - val_accuracy: 0.5437\n",
      "Epoch 67/100\n",
      "86/86 [==============================] - 0s 2ms/step - loss: 0.7816 - accuracy: 0.6823 - val_loss: 1.0752 - val_accuracy: 0.5437\n",
      "Epoch 68/100\n",
      "86/86 [==============================] - 0s 2ms/step - loss: 0.7816 - accuracy: 0.6823 - val_loss: 1.0752 - val_accuracy: 0.5437\n",
      "Epoch 69/100\n",
      "86/86 [==============================] - 0s 2ms/step - loss: 0.7816 - accuracy: 0.6823 - val_loss: 1.0752 - val_accuracy: 0.5437\n",
      "Epoch 70/100\n",
      "86/86 [==============================] - 0s 2ms/step - loss: 0.7816 - accuracy: 0.6823 - val_loss: 1.0752 - val_accuracy: 0.5437\n",
      "Epoch 71/100\n",
      "86/86 [==============================] - 0s 2ms/step - loss: 0.7816 - accuracy: 0.6823 - val_loss: 1.0752 - val_accuracy: 0.5437\n",
      "Epoch 72/100\n",
      "86/86 [==============================] - 0s 2ms/step - loss: 0.7816 - accuracy: 0.6823 - val_loss: 1.0752 - val_accuracy: 0.5437\n",
      "Epoch 73/100\n",
      "86/86 [==============================] - 0s 2ms/step - loss: 0.7816 - accuracy: 0.6823 - val_loss: 1.0752 - val_accuracy: 0.5437\n",
      "Epoch 74/100\n",
      "86/86 [==============================] - 0s 2ms/step - loss: 0.7816 - accuracy: 0.6823 - val_loss: 1.0752 - val_accuracy: 0.5437\n",
      "Epoch 75/100\n",
      "86/86 [==============================] - 0s 2ms/step - loss: 0.7816 - accuracy: 0.6823 - val_loss: 1.0752 - val_accuracy: 0.5437\n",
      "Epoch 76/100\n",
      "86/86 [==============================] - 0s 2ms/step - loss: 0.7816 - accuracy: 0.6823 - val_loss: 1.0752 - val_accuracy: 0.5437\n",
      "Epoch 77/100\n",
      "86/86 [==============================] - 0s 2ms/step - loss: 0.7816 - accuracy: 0.6823 - val_loss: 1.0752 - val_accuracy: 0.5437\n",
      "Epoch 78/100\n",
      "86/86 [==============================] - 0s 2ms/step - loss: 0.7816 - accuracy: 0.6823 - val_loss: 1.0752 - val_accuracy: 0.5437\n",
      "Epoch 79/100\n",
      "86/86 [==============================] - 0s 2ms/step - loss: 0.7816 - accuracy: 0.6823 - val_loss: 1.0752 - val_accuracy: 0.5437\n",
      "Epoch 80/100\n",
      "86/86 [==============================] - 0s 2ms/step - loss: 0.7816 - accuracy: 0.6823 - val_loss: 1.0752 - val_accuracy: 0.5437\n",
      "Epoch 81/100\n",
      "86/86 [==============================] - 0s 2ms/step - loss: 0.7816 - accuracy: 0.6823 - val_loss: 1.0752 - val_accuracy: 0.5437\n",
      "Epoch 82/100\n",
      "86/86 [==============================] - 0s 2ms/step - loss: 0.7816 - accuracy: 0.6823 - val_loss: 1.0752 - val_accuracy: 0.5437\n",
      "Epoch 83/100\n",
      "86/86 [==============================] - 0s 2ms/step - loss: 0.7816 - accuracy: 0.6823 - val_loss: 1.0752 - val_accuracy: 0.5437\n",
      "Epoch 84/100\n",
      "86/86 [==============================] - 0s 2ms/step - loss: 0.7816 - accuracy: 0.6823 - val_loss: 1.0752 - val_accuracy: 0.5437\n",
      "Epoch 85/100\n",
      "86/86 [==============================] - 0s 2ms/step - loss: 0.7816 - accuracy: 0.6823 - val_loss: 1.0752 - val_accuracy: 0.5437\n",
      "Epoch 86/100\n",
      "86/86 [==============================] - 0s 2ms/step - loss: 0.7816 - accuracy: 0.6823 - val_loss: 1.0752 - val_accuracy: 0.5437\n",
      "Epoch 87/100\n",
      "86/86 [==============================] - 0s 2ms/step - loss: 0.7816 - accuracy: 0.6823 - val_loss: 1.0752 - val_accuracy: 0.5437\n",
      "Epoch 88/100\n",
      "86/86 [==============================] - 0s 2ms/step - loss: 0.7816 - accuracy: 0.6823 - val_loss: 1.0752 - val_accuracy: 0.5437\n",
      "Epoch 89/100\n",
      "86/86 [==============================] - 0s 2ms/step - loss: 0.7816 - accuracy: 0.6823 - val_loss: 1.0752 - val_accuracy: 0.5437\n",
      "Epoch 90/100\n",
      "86/86 [==============================] - 0s 2ms/step - loss: 0.7816 - accuracy: 0.6823 - val_loss: 1.0752 - val_accuracy: 0.5437\n",
      "Epoch 91/100\n",
      "86/86 [==============================] - 0s 2ms/step - loss: 0.7816 - accuracy: 0.6823 - val_loss: 1.0752 - val_accuracy: 0.5437\n",
      "Epoch 92/100\n",
      "86/86 [==============================] - 0s 2ms/step - loss: 0.7816 - accuracy: 0.6823 - val_loss: 1.0752 - val_accuracy: 0.5437\n",
      "Epoch 93/100\n",
      "86/86 [==============================] - 0s 2ms/step - loss: 0.7816 - accuracy: 0.6823 - val_loss: 1.0752 - val_accuracy: 0.5437\n",
      "Epoch 94/100\n",
      "86/86 [==============================] - 0s 2ms/step - loss: 0.7816 - accuracy: 0.6823 - val_loss: 1.0752 - val_accuracy: 0.5437\n",
      "Epoch 95/100\n",
      "86/86 [==============================] - 0s 2ms/step - loss: 0.7816 - accuracy: 0.6823 - val_loss: 1.0752 - val_accuracy: 0.5437\n",
      "Epoch 96/100\n",
      "86/86 [==============================] - 0s 2ms/step - loss: 0.7816 - accuracy: 0.6823 - val_loss: 1.0752 - val_accuracy: 0.5437\n",
      "Epoch 97/100\n",
      "86/86 [==============================] - 0s 2ms/step - loss: 0.7816 - accuracy: 0.6823 - val_loss: 1.0752 - val_accuracy: 0.5437\n",
      "Epoch 98/100\n",
      "86/86 [==============================] - 0s 2ms/step - loss: 0.7816 - accuracy: 0.6823 - val_loss: 1.0752 - val_accuracy: 0.5437\n",
      "Epoch 99/100\n",
      "86/86 [==============================] - 0s 2ms/step - loss: 0.7816 - accuracy: 0.6823 - val_loss: 1.0752 - val_accuracy: 0.5437\n",
      "Epoch 100/100\n",
      "86/86 [==============================] - 0s 2ms/step - loss: 0.7816 - accuracy: 0.6823 - val_loss: 1.0752 - val_accuracy: 0.5437\n"
     ]
    }
   ],
   "source": [
    "inputs = tf.keras.Input(shape=(num_features,))\n",
    "x = tf.keras.layers.Dense(64, activation='relu')(inputs)\n",
    "x = tf.keras.layers.Dense(64, activation='relu')(x)\n",
    "outputs = tf.keras.layers.Dense(num_classes, activation='softmax')(x)\n",
    "\n",
    "model = tf.keras.Model(inputs=inputs, outputs=outputs)\n",
    "\n",
    "\n",
    "model.compile(\n",
    "    optimizer='adam',\n",
    "    loss='sparse_categorical_crossentropy',\n",
    "    metrics=['accuracy']\n",
    ")\n",
    "\n",
    "\n",
    "batch_size = 32\n",
    "epochs = 100\n",
    "\n",
    "history = model.fit(\n",
    "    X_train,\n",
    "    y_train,\n",
    "    validation_split=0.2,\n",
    "    batch_size=batch_size,\n",
    "    epochs=epochs,\n",
    "    callbacks=[tf.keras.callbacks.ReduceLROnPlateau()]\n",
    ")"
   ]
  },
  {
   "cell_type": "markdown",
   "metadata": {
    "papermill": {
     "duration": 0.194339,
     "end_time": "2020-10-03T16:52:35.023512",
     "exception": false,
     "start_time": "2020-10-03T16:52:34.829173",
     "status": "completed"
    },
    "tags": []
   },
   "source": [
    "# Results"
   ]
  },
  {
   "cell_type": "code",
   "execution_count": 16,
   "metadata": {
    "execution": {
     "iopub.execute_input": "2020-10-03T16:52:35.426443Z",
     "iopub.status.busy": "2020-10-03T16:52:35.425621Z",
     "iopub.status.idle": "2020-10-03T16:52:36.611586Z",
     "shell.execute_reply": "2020-10-03T16:52:36.612148Z"
    },
    "papermill": {
     "duration": 1.390792,
     "end_time": "2020-10-03T16:52:36.612333",
     "exception": false,
     "start_time": "2020-10-03T16:52:35.221541",
     "status": "completed"
    },
    "tags": []
   },
   "outputs": [
    {
     "data": {
      "text/html": [
       "        <script type=\"text/javascript\">\n",
       "        window.PlotlyConfig = {MathJaxConfig: 'local'};\n",
       "        if (window.MathJax) {MathJax.Hub.Config({SVG: {font: \"STIX-Web\"}});}\n",
       "        if (typeof require !== 'undefined') {\n",
       "        require.undef(\"plotly\");\n",
       "        requirejs.config({\n",
       "            paths: {\n",
       "                'plotly': ['https://cdn.plot.ly/plotly-latest.min']\n",
       "            }\n",
       "        });\n",
       "        require(['plotly'], function(Plotly) {\n",
       "            window._Plotly = Plotly;\n",
       "        });\n",
       "        }\n",
       "        </script>\n",
       "        "
      ]
     },
     "metadata": {},
     "output_type": "display_data"
    },
    {
     "data": {
      "text/html": [
       "<div>                            <div id=\"4a483f36-fa4d-4b31-8d86-e2fb7427ed8f\" class=\"plotly-graph-div\" style=\"height:525px; width:100%;\"></div>            <script type=\"text/javascript\">                require([\"plotly\"], function(Plotly) {                    window.PLOTLYENV=window.PLOTLYENV || {};                                    if (document.getElementById(\"4a483f36-fa4d-4b31-8d86-e2fb7427ed8f\")) {                    Plotly.newPlot(                        \"4a483f36-fa4d-4b31-8d86-e2fb7427ed8f\",                        [{\"hovertemplate\": \"variable=loss<br>index=%{x}<br>value=%{y}<extra></extra>\", \"legendgroup\": \"loss\", \"line\": {\"color\": \"#636efa\", \"dash\": \"solid\"}, \"mode\": \"lines\", \"name\": \"loss\", \"orientation\": \"v\", \"showlegend\": true, \"type\": \"scatter\", \"x\": [0, 1, 2, 3, 4, 5, 6, 7, 8, 9, 10, 11, 12, 13, 14, 15, 16, 17, 18, 19, 20, 21, 22, 23, 24, 25, 26, 27, 28, 29, 30, 31, 32, 33, 34, 35, 36, 37, 38, 39, 40, 41, 42, 43, 44, 45, 46, 47, 48, 49, 50, 51, 52, 53, 54, 55, 56, 57, 58, 59, 60, 61, 62, 63, 64, 65, 66, 67, 68, 69, 70, 71, 72, 73, 74, 75, 76, 77, 78, 79, 80, 81, 82, 83, 84, 85, 86, 87, 88, 89, 90, 91, 92, 93, 94, 95, 96, 97, 98, 99], \"xaxis\": \"x\", \"y\": [1.4505199193954468, 1.176924705505371, 1.1193959712982178, 1.0873663425445557, 1.068621039390564, 1.049278974533081, 1.0401837825775146, 1.0249651670455933, 1.0149407386779785, 1.0048047304153442, 0.9940106272697449, 0.9845662713050842, 0.9765121340751648, 0.9731320738792419, 0.9562532305717468, 0.9533910155296326, 0.9461855292320251, 0.9401074647903442, 0.9304959774017334, 0.9259938597679138, 0.9196212887763977, 0.9107523560523987, 0.9082344770431519, 0.8981484770774841, 0.8921625018119812, 0.8848761320114136, 0.8794906139373779, 0.8741615414619446, 0.8701669573783875, 0.8597370386123657, 0.8564830422401428, 0.8492622971534729, 0.8431663513183594, 0.8391469717025757, 0.8294925093650818, 0.8295894265174866, 0.7989797592163086, 0.7944374084472656, 0.7922642827033997, 0.7912186980247498, 0.7896620035171509, 0.7891422510147095, 0.7886149883270264, 0.7877321243286133, 0.786865770816803, 0.7859334349632263, 0.7828972935676575, 0.782741367816925, 0.7826329469680786, 0.7825262546539307, 0.7824262976646423, 0.782392680644989, 0.782252848148346, 0.7821998596191406, 0.7820988893508911, 0.7820859551429749, 0.7816761136054993, 0.7816683053970337, 0.7816662788391113, 0.7816513180732727, 0.781641960144043, 0.7816371321678162, 0.7816279530525208, 0.7816295623779297, 0.7816123962402344, 0.7816097736358643, 0.7815730571746826, 0.781572163105011, 0.781571626663208, 0.781571090221405, 0.7815695405006409, 0.7815686464309692, 0.7815681099891663, 0.7815677523612976, 0.781566858291626, 0.781566858291626, 0.781562328338623, 0.7815626263618469, 0.7815622687339783, 0.781562328338623, 0.7815624475479126, 0.7815624475479126, 0.7815624475479126, 0.7815622687339783, 0.781562328338623, 0.781562328338623, 0.7815622687339783, 0.7815621495246887, 0.7815621495246887, 0.781562328338623, 0.7815622687339783, 0.7815624475479126, 0.7815621495246887, 0.7815621495246887, 0.7815621495246887, 0.781562328338623, 0.7815621495246887, 0.7815621495246887, 0.781562089920044, 0.781562328338623], \"yaxis\": \"y\"}, {\"hovertemplate\": \"variable=val_loss<br>index=%{x}<br>value=%{y}<extra></extra>\", \"legendgroup\": \"val_loss\", \"line\": {\"color\": \"#EF553B\", \"dash\": \"solid\"}, \"mode\": \"lines\", \"name\": \"val_loss\", \"orientation\": \"v\", \"showlegend\": true, \"type\": \"scatter\", \"x\": [0, 1, 2, 3, 4, 5, 6, 7, 8, 9, 10, 11, 12, 13, 14, 15, 16, 17, 18, 19, 20, 21, 22, 23, 24, 25, 26, 27, 28, 29, 30, 31, 32, 33, 34, 35, 36, 37, 38, 39, 40, 41, 42, 43, 44, 45, 46, 47, 48, 49, 50, 51, 52, 53, 54, 55, 56, 57, 58, 59, 60, 61, 62, 63, 64, 65, 66, 67, 68, 69, 70, 71, 72, 73, 74, 75, 76, 77, 78, 79, 80, 81, 82, 83, 84, 85, 86, 87, 88, 89, 90, 91, 92, 93, 94, 95, 96, 97, 98, 99], \"xaxis\": \"x\", \"y\": [1.2277518510818481, 1.159550666809082, 1.1411643028259277, 1.114894986152649, 1.1141375303268433, 1.1078356504440308, 1.0841050148010254, 1.087430715560913, 1.0765328407287598, 1.0737594366073608, 1.0678170919418335, 1.074512004852295, 1.0762277841567993, 1.071256160736084, 1.0800305604934692, 1.0624226331710815, 1.0679686069488525, 1.0720707178115845, 1.0659682750701904, 1.076362133026123, 1.0774331092834473, 1.067884922027588, 1.0614814758300781, 1.0659034252166748, 1.0802539587020874, 1.0613129138946533, 1.064849615097046, 1.0839985609054565, 1.0758366584777832, 1.069269061088562, 1.0681170225143433, 1.090864658355713, 1.069705843925476, 1.0636035203933716, 1.07443106174469, 1.0910667181015015, 1.0715508460998535, 1.0716402530670166, 1.0718209743499756, 1.0724542140960693, 1.074161410331726, 1.0741575956344604, 1.0744978189468384, 1.0739995241165161, 1.0744609832763672, 1.0772589445114136, 1.0768872499465942, 1.0766617059707642, 1.0760990381240845, 1.076025128364563, 1.075647234916687, 1.0756360292434692, 1.0754399299621582, 1.0753172636032104, 1.075434684753418, 1.075187087059021, 1.0752151012420654, 1.0751903057098389, 1.0751721858978271, 1.0751945972442627, 1.0751882791519165, 1.0751820802688599, 1.0751863718032837, 1.0751930475234985, 1.0751762390136719, 1.075176477432251, 1.0751744508743286, 1.0751762390136719, 1.0751756429672241, 1.0751709938049316, 1.0751755237579346, 1.0751755237579346, 1.0751737356185913, 1.0751734972000122, 1.0751720666885376, 1.0751721858978271, 1.0751723051071167, 1.0751721858978271, 1.0751723051071167, 1.0751723051071167, 1.075171947479248, 1.0751720666885376, 1.0751720666885376, 1.0751721858978271, 1.075171947479248, 1.075171947479248, 1.075171947479248, 1.075171947479248, 1.075171947479248, 1.075171947479248, 1.075171947479248, 1.075171947479248, 1.075171947479248, 1.075171947479248, 1.075171947479248, 1.075171947479248, 1.075171947479248, 1.075171947479248, 1.075171947479248, 1.075171947479248], \"yaxis\": \"y\"}],                        {\"legend\": {\"title\": {\"text\": \"variable\"}, \"tracegroupgap\": 0}, \"template\": {\"data\": {\"bar\": [{\"error_x\": {\"color\": \"#2a3f5f\"}, \"error_y\": {\"color\": \"#2a3f5f\"}, \"marker\": {\"line\": {\"color\": \"#E5ECF6\", \"width\": 0.5}}, \"type\": \"bar\"}], \"barpolar\": [{\"marker\": {\"line\": {\"color\": \"#E5ECF6\", \"width\": 0.5}}, \"type\": \"barpolar\"}], \"carpet\": [{\"aaxis\": {\"endlinecolor\": \"#2a3f5f\", \"gridcolor\": \"white\", \"linecolor\": \"white\", \"minorgridcolor\": \"white\", \"startlinecolor\": \"#2a3f5f\"}, \"baxis\": {\"endlinecolor\": \"#2a3f5f\", \"gridcolor\": \"white\", \"linecolor\": \"white\", \"minorgridcolor\": \"white\", \"startlinecolor\": \"#2a3f5f\"}, \"type\": \"carpet\"}], \"choropleth\": [{\"colorbar\": {\"outlinewidth\": 0, \"ticks\": \"\"}, \"type\": \"choropleth\"}], \"contour\": [{\"colorbar\": {\"outlinewidth\": 0, \"ticks\": \"\"}, \"colorscale\": [[0.0, \"#0d0887\"], [0.1111111111111111, \"#46039f\"], [0.2222222222222222, \"#7201a8\"], [0.3333333333333333, \"#9c179e\"], [0.4444444444444444, \"#bd3786\"], [0.5555555555555556, \"#d8576b\"], [0.6666666666666666, \"#ed7953\"], [0.7777777777777778, \"#fb9f3a\"], [0.8888888888888888, \"#fdca26\"], [1.0, \"#f0f921\"]], \"type\": \"contour\"}], \"contourcarpet\": [{\"colorbar\": {\"outlinewidth\": 0, \"ticks\": \"\"}, \"type\": \"contourcarpet\"}], \"heatmap\": [{\"colorbar\": {\"outlinewidth\": 0, \"ticks\": \"\"}, \"colorscale\": [[0.0, \"#0d0887\"], [0.1111111111111111, \"#46039f\"], [0.2222222222222222, \"#7201a8\"], [0.3333333333333333, \"#9c179e\"], [0.4444444444444444, \"#bd3786\"], [0.5555555555555556, \"#d8576b\"], [0.6666666666666666, \"#ed7953\"], [0.7777777777777778, \"#fb9f3a\"], [0.8888888888888888, \"#fdca26\"], [1.0, \"#f0f921\"]], \"type\": \"heatmap\"}], \"heatmapgl\": [{\"colorbar\": {\"outlinewidth\": 0, \"ticks\": \"\"}, \"colorscale\": [[0.0, \"#0d0887\"], [0.1111111111111111, \"#46039f\"], [0.2222222222222222, \"#7201a8\"], [0.3333333333333333, \"#9c179e\"], [0.4444444444444444, \"#bd3786\"], [0.5555555555555556, \"#d8576b\"], [0.6666666666666666, \"#ed7953\"], [0.7777777777777778, \"#fb9f3a\"], [0.8888888888888888, \"#fdca26\"], [1.0, \"#f0f921\"]], \"type\": \"heatmapgl\"}], \"histogram\": [{\"marker\": {\"colorbar\": {\"outlinewidth\": 0, \"ticks\": \"\"}}, \"type\": \"histogram\"}], \"histogram2d\": [{\"colorbar\": {\"outlinewidth\": 0, \"ticks\": \"\"}, \"colorscale\": [[0.0, \"#0d0887\"], [0.1111111111111111, \"#46039f\"], [0.2222222222222222, \"#7201a8\"], [0.3333333333333333, \"#9c179e\"], [0.4444444444444444, \"#bd3786\"], [0.5555555555555556, \"#d8576b\"], [0.6666666666666666, \"#ed7953\"], [0.7777777777777778, \"#fb9f3a\"], [0.8888888888888888, \"#fdca26\"], [1.0, \"#f0f921\"]], \"type\": \"histogram2d\"}], \"histogram2dcontour\": [{\"colorbar\": {\"outlinewidth\": 0, \"ticks\": \"\"}, \"colorscale\": [[0.0, \"#0d0887\"], [0.1111111111111111, \"#46039f\"], [0.2222222222222222, \"#7201a8\"], [0.3333333333333333, \"#9c179e\"], [0.4444444444444444, \"#bd3786\"], [0.5555555555555556, \"#d8576b\"], [0.6666666666666666, \"#ed7953\"], [0.7777777777777778, \"#fb9f3a\"], [0.8888888888888888, \"#fdca26\"], [1.0, \"#f0f921\"]], \"type\": \"histogram2dcontour\"}], \"mesh3d\": [{\"colorbar\": {\"outlinewidth\": 0, \"ticks\": \"\"}, \"type\": \"mesh3d\"}], \"parcoords\": [{\"line\": {\"colorbar\": {\"outlinewidth\": 0, \"ticks\": \"\"}}, \"type\": \"parcoords\"}], \"pie\": [{\"automargin\": true, \"type\": \"pie\"}], \"scatter\": [{\"marker\": {\"colorbar\": {\"outlinewidth\": 0, \"ticks\": \"\"}}, \"type\": \"scatter\"}], \"scatter3d\": [{\"line\": {\"colorbar\": {\"outlinewidth\": 0, \"ticks\": \"\"}}, \"marker\": {\"colorbar\": {\"outlinewidth\": 0, \"ticks\": \"\"}}, \"type\": \"scatter3d\"}], \"scattercarpet\": [{\"marker\": {\"colorbar\": {\"outlinewidth\": 0, \"ticks\": \"\"}}, \"type\": \"scattercarpet\"}], \"scattergeo\": [{\"marker\": {\"colorbar\": {\"outlinewidth\": 0, \"ticks\": \"\"}}, \"type\": \"scattergeo\"}], \"scattergl\": [{\"marker\": {\"colorbar\": {\"outlinewidth\": 0, \"ticks\": \"\"}}, \"type\": \"scattergl\"}], \"scattermapbox\": [{\"marker\": {\"colorbar\": {\"outlinewidth\": 0, \"ticks\": \"\"}}, \"type\": \"scattermapbox\"}], \"scatterpolar\": [{\"marker\": {\"colorbar\": {\"outlinewidth\": 0, \"ticks\": \"\"}}, \"type\": \"scatterpolar\"}], \"scatterpolargl\": [{\"marker\": {\"colorbar\": {\"outlinewidth\": 0, \"ticks\": \"\"}}, \"type\": \"scatterpolargl\"}], \"scatterternary\": [{\"marker\": {\"colorbar\": {\"outlinewidth\": 0, \"ticks\": \"\"}}, \"type\": \"scatterternary\"}], \"surface\": [{\"colorbar\": {\"outlinewidth\": 0, \"ticks\": \"\"}, \"colorscale\": [[0.0, \"#0d0887\"], [0.1111111111111111, \"#46039f\"], [0.2222222222222222, \"#7201a8\"], [0.3333333333333333, \"#9c179e\"], [0.4444444444444444, \"#bd3786\"], [0.5555555555555556, \"#d8576b\"], [0.6666666666666666, \"#ed7953\"], [0.7777777777777778, \"#fb9f3a\"], [0.8888888888888888, \"#fdca26\"], [1.0, \"#f0f921\"]], \"type\": \"surface\"}], \"table\": [{\"cells\": {\"fill\": {\"color\": \"#EBF0F8\"}, \"line\": {\"color\": \"white\"}}, \"header\": {\"fill\": {\"color\": \"#C8D4E3\"}, \"line\": {\"color\": \"white\"}}, \"type\": \"table\"}]}, \"layout\": {\"annotationdefaults\": {\"arrowcolor\": \"#2a3f5f\", \"arrowhead\": 0, \"arrowwidth\": 1}, \"coloraxis\": {\"colorbar\": {\"outlinewidth\": 0, \"ticks\": \"\"}}, \"colorscale\": {\"diverging\": [[0, \"#8e0152\"], [0.1, \"#c51b7d\"], [0.2, \"#de77ae\"], [0.3, \"#f1b6da\"], [0.4, \"#fde0ef\"], [0.5, \"#f7f7f7\"], [0.6, \"#e6f5d0\"], [0.7, \"#b8e186\"], [0.8, \"#7fbc41\"], [0.9, \"#4d9221\"], [1, \"#276419\"]], \"sequential\": [[0.0, \"#0d0887\"], [0.1111111111111111, \"#46039f\"], [0.2222222222222222, \"#7201a8\"], [0.3333333333333333, \"#9c179e\"], [0.4444444444444444, \"#bd3786\"], [0.5555555555555556, \"#d8576b\"], [0.6666666666666666, \"#ed7953\"], [0.7777777777777778, \"#fb9f3a\"], [0.8888888888888888, \"#fdca26\"], [1.0, \"#f0f921\"]], \"sequentialminus\": [[0.0, \"#0d0887\"], [0.1111111111111111, \"#46039f\"], [0.2222222222222222, \"#7201a8\"], [0.3333333333333333, \"#9c179e\"], [0.4444444444444444, \"#bd3786\"], [0.5555555555555556, \"#d8576b\"], [0.6666666666666666, \"#ed7953\"], [0.7777777777777778, \"#fb9f3a\"], [0.8888888888888888, \"#fdca26\"], [1.0, \"#f0f921\"]]}, \"colorway\": [\"#636efa\", \"#EF553B\", \"#00cc96\", \"#ab63fa\", \"#FFA15A\", \"#19d3f3\", \"#FF6692\", \"#B6E880\", \"#FF97FF\", \"#FECB52\"], \"font\": {\"color\": \"#2a3f5f\"}, \"geo\": {\"bgcolor\": \"white\", \"lakecolor\": \"white\", \"landcolor\": \"#E5ECF6\", \"showlakes\": true, \"showland\": true, \"subunitcolor\": \"white\"}, \"hoverlabel\": {\"align\": \"left\"}, \"hovermode\": \"closest\", \"mapbox\": {\"style\": \"light\"}, \"paper_bgcolor\": \"white\", \"plot_bgcolor\": \"#E5ECF6\", \"polar\": {\"angularaxis\": {\"gridcolor\": \"white\", \"linecolor\": \"white\", \"ticks\": \"\"}, \"bgcolor\": \"#E5ECF6\", \"radialaxis\": {\"gridcolor\": \"white\", \"linecolor\": \"white\", \"ticks\": \"\"}}, \"scene\": {\"xaxis\": {\"backgroundcolor\": \"#E5ECF6\", \"gridcolor\": \"white\", \"gridwidth\": 2, \"linecolor\": \"white\", \"showbackground\": true, \"ticks\": \"\", \"zerolinecolor\": \"white\"}, \"yaxis\": {\"backgroundcolor\": \"#E5ECF6\", \"gridcolor\": \"white\", \"gridwidth\": 2, \"linecolor\": \"white\", \"showbackground\": true, \"ticks\": \"\", \"zerolinecolor\": \"white\"}, \"zaxis\": {\"backgroundcolor\": \"#E5ECF6\", \"gridcolor\": \"white\", \"gridwidth\": 2, \"linecolor\": \"white\", \"showbackground\": true, \"ticks\": \"\", \"zerolinecolor\": \"white\"}}, \"shapedefaults\": {\"line\": {\"color\": \"#2a3f5f\"}}, \"ternary\": {\"aaxis\": {\"gridcolor\": \"white\", \"linecolor\": \"white\", \"ticks\": \"\"}, \"baxis\": {\"gridcolor\": \"white\", \"linecolor\": \"white\", \"ticks\": \"\"}, \"bgcolor\": \"#E5ECF6\", \"caxis\": {\"gridcolor\": \"white\", \"linecolor\": \"white\", \"ticks\": \"\"}}, \"title\": {\"x\": 0.05}, \"xaxis\": {\"automargin\": true, \"gridcolor\": \"white\", \"linecolor\": \"white\", \"ticks\": \"\", \"title\": {\"standoff\": 15}, \"zerolinecolor\": \"white\", \"zerolinewidth\": 2}, \"yaxis\": {\"automargin\": true, \"gridcolor\": \"white\", \"linecolor\": \"white\", \"ticks\": \"\", \"title\": {\"standoff\": 15}, \"zerolinecolor\": \"white\", \"zerolinewidth\": 2}}}, \"title\": {\"text\": \"Loss Over Time\"}, \"xaxis\": {\"anchor\": \"y\", \"domain\": [0.0, 1.0], \"title\": {\"text\": \"index\"}}, \"yaxis\": {\"anchor\": \"x\", \"domain\": [0.0, 1.0], \"title\": {\"text\": \"value\"}}},                        {\"responsive\": true}                    ).then(function(){\n",
       "                            \n",
       "var gd = document.getElementById('4a483f36-fa4d-4b31-8d86-e2fb7427ed8f');\n",
       "var x = new MutationObserver(function (mutations, observer) {{\n",
       "        var display = window.getComputedStyle(gd).display;\n",
       "        if (!display || display === 'none') {{\n",
       "            console.log([gd, 'removed!']);\n",
       "            Plotly.purge(gd);\n",
       "            observer.disconnect();\n",
       "        }}\n",
       "}});\n",
       "\n",
       "// Listen for the removal of the full notebook cells\n",
       "var notebookContainer = gd.closest('#notebook-container');\n",
       "if (notebookContainer) {{\n",
       "    x.observe(notebookContainer, {childList: true});\n",
       "}}\n",
       "\n",
       "// Listen for the clearing of the current output cell\n",
       "var outputEl = gd.closest('.output');\n",
       "if (outputEl) {{\n",
       "    x.observe(outputEl, {childList: true});\n",
       "}}\n",
       "\n",
       "                        })                };                });            </script>        </div>"
      ]
     },
     "metadata": {},
     "output_type": "display_data"
    }
   ],
   "source": [
    "fig = px.line(\n",
    "    history.history,\n",
    "    y=['loss', 'val_loss'],\n",
    "    labels={'x': \"Epoch\", 'y': \"Loss\"},\n",
    "    title=\"Loss Over Time\"\n",
    ")\n",
    "\n",
    "fig.show()"
   ]
  },
  {
   "cell_type": "code",
   "execution_count": 17,
   "metadata": {
    "execution": {
     "iopub.execute_input": "2020-10-03T16:52:37.021168Z",
     "iopub.status.busy": "2020-10-03T16:52:37.020353Z",
     "iopub.status.idle": "2020-10-03T16:52:37.141589Z",
     "shell.execute_reply": "2020-10-03T16:52:37.142305Z"
    },
    "papermill": {
     "duration": 0.335324,
     "end_time": "2020-10-03T16:52:37.142479",
     "exception": false,
     "start_time": "2020-10-03T16:52:36.807155",
     "status": "completed"
    },
    "tags": []
   },
   "outputs": [
    {
     "name": "stdout",
     "output_type": "stream",
     "text": [
      "46/46 [==============================] - 0s 1ms/step - loss: 1.0336 - accuracy: 0.5653\n"
     ]
    },
    {
     "data": {
      "text/plain": [
       "[1.033569574356079, 0.5653061270713806]"
      ]
     },
     "execution_count": 17,
     "metadata": {},
     "output_type": "execute_result"
    }
   ],
   "source": [
    "model.evaluate(X_test, y_test)"
   ]
  },
  {
   "cell_type": "markdown",
   "metadata": {
    "papermill": {
     "duration": 0.197432,
     "end_time": "2020-10-03T16:52:37.541683",
     "exception": false,
     "start_time": "2020-10-03T16:52:37.344251",
     "status": "completed"
    },
    "tags": []
   },
   "source": [
    "# Re-structure the task:\n",
    "\n",
    "Let's try quantile-splitting the outputs into two categories: high quality wines and low quality wines."
   ]
  },
  {
   "cell_type": "code",
   "execution_count": 18,
   "metadata": {
    "execution": {
     "iopub.execute_input": "2020-10-03T16:52:37.947642Z",
     "iopub.status.busy": "2020-10-03T16:52:37.946707Z",
     "iopub.status.idle": "2020-10-03T16:52:37.950710Z",
     "shell.execute_reply": "2020-10-03T16:52:37.951271Z"
    },
    "papermill": {
     "duration": 0.2115,
     "end_time": "2020-10-03T16:52:37.951466",
     "exception": false,
     "start_time": "2020-10-03T16:52:37.739966",
     "status": "completed"
    },
    "tags": []
   },
   "outputs": [
    {
     "data": {
      "text/plain": [
       "3    2198\n",
       "2    1457\n",
       "4     880\n",
       "5     175\n",
       "1     163\n",
       "0      20\n",
       "6       5\n",
       "Name: quality, dtype: int64"
      ]
     },
     "execution_count": 18,
     "metadata": {},
     "output_type": "execute_result"
    }
   ],
   "source": [
    "data['quality'].value_counts()"
   ]
  },
  {
   "cell_type": "code",
   "execution_count": 19,
   "metadata": {
    "execution": {
     "iopub.execute_input": "2020-10-03T16:52:38.355430Z",
     "iopub.status.busy": "2020-10-03T16:52:38.354664Z",
     "iopub.status.idle": "2020-10-03T16:52:38.391221Z",
     "shell.execute_reply": "2020-10-03T16:52:38.390411Z"
    },
    "papermill": {
     "duration": 0.241488,
     "end_time": "2020-10-03T16:52:38.391375",
     "exception": false,
     "start_time": "2020-10-03T16:52:38.149887",
     "status": "completed"
    },
    "tags": []
   },
   "outputs": [
    {
     "data": {
      "text/plain": [
       "0    3838\n",
       "1    1060\n",
       "Name: quality, dtype: int64"
      ]
     },
     "execution_count": 19,
     "metadata": {},
     "output_type": "execute_result"
    }
   ],
   "source": [
    "pd.qcut(data['quality'], q=2, labels=[0,1]).value_counts()"
   ]
  },
  {
   "cell_type": "code",
   "execution_count": 20,
   "metadata": {
    "execution": {
     "iopub.execute_input": "2020-10-03T16:52:38.796223Z",
     "iopub.status.busy": "2020-10-03T16:52:38.795101Z",
     "iopub.status.idle": "2020-10-03T16:52:38.804111Z",
     "shell.execute_reply": "2020-10-03T16:52:38.803369Z"
    },
    "papermill": {
     "duration": 0.213881,
     "end_time": "2020-10-03T16:52:38.804295",
     "exception": false,
     "start_time": "2020-10-03T16:52:38.590414",
     "status": "completed"
    },
    "tags": []
   },
   "outputs": [],
   "source": [
    "y = pd.qcut(data['quality'], q=2, labels=[0,1])\n",
    "X = data.drop('quality', axis=1)"
   ]
  },
  {
   "cell_type": "code",
   "execution_count": 21,
   "metadata": {
    "execution": {
     "iopub.execute_input": "2020-10-03T16:52:39.214378Z",
     "iopub.status.busy": "2020-10-03T16:52:39.213570Z",
     "iopub.status.idle": "2020-10-03T16:52:39.220806Z",
     "shell.execute_reply": "2020-10-03T16:52:39.221362Z"
    },
    "papermill": {
     "duration": 0.217885,
     "end_time": "2020-10-03T16:52:39.221548",
     "exception": false,
     "start_time": "2020-10-03T16:52:39.003663",
     "status": "completed"
    },
    "tags": []
   },
   "outputs": [],
   "source": [
    "scaler = StandardScaler()\n",
    "\n",
    "X = pd.DataFrame(scaler.fit_transform(X), columns=X.columns)"
   ]
  },
  {
   "cell_type": "code",
   "execution_count": 22,
   "metadata": {
    "execution": {
     "iopub.execute_input": "2020-10-03T16:52:39.630726Z",
     "iopub.status.busy": "2020-10-03T16:52:39.629634Z",
     "iopub.status.idle": "2020-10-03T16:52:39.635170Z",
     "shell.execute_reply": "2020-10-03T16:52:39.635733Z"
    },
    "papermill": {
     "duration": 0.212392,
     "end_time": "2020-10-03T16:52:39.635917",
     "exception": false,
     "start_time": "2020-10-03T16:52:39.423525",
     "status": "completed"
    },
    "tags": []
   },
   "outputs": [],
   "source": [
    "X_train, X_test, y_train, y_test = train_test_split(X, y, train_size=0.7, random_state=34)"
   ]
  },
  {
   "cell_type": "code",
   "execution_count": 23,
   "metadata": {
    "execution": {
     "iopub.execute_input": "2020-10-03T16:52:40.050654Z",
     "iopub.status.busy": "2020-10-03T16:52:40.046079Z",
     "iopub.status.idle": "2020-10-03T16:52:57.364720Z",
     "shell.execute_reply": "2020-10-03T16:52:57.363586Z"
    },
    "papermill": {
     "duration": 17.528435,
     "end_time": "2020-10-03T16:52:57.364883",
     "exception": false,
     "start_time": "2020-10-03T16:52:39.836448",
     "status": "completed"
    },
    "tags": []
   },
   "outputs": [
    {
     "name": "stdout",
     "output_type": "stream",
     "text": [
      "Epoch 1/100\n",
      "86/86 [==============================] - 0s 3ms/step - loss: 0.4659 - accuracy: 0.7896 - val_loss: 0.4707 - val_accuracy: 0.7522\n",
      "Epoch 2/100\n",
      "86/86 [==============================] - 0s 2ms/step - loss: 0.3991 - accuracy: 0.8209 - val_loss: 0.4426 - val_accuracy: 0.7799\n",
      "Epoch 3/100\n",
      "86/86 [==============================] - 0s 2ms/step - loss: 0.3784 - accuracy: 0.8271 - val_loss: 0.4419 - val_accuracy: 0.7799\n",
      "Epoch 4/100\n",
      "86/86 [==============================] - 0s 2ms/step - loss: 0.3680 - accuracy: 0.8293 - val_loss: 0.4274 - val_accuracy: 0.7813\n",
      "Epoch 5/100\n",
      "86/86 [==============================] - 0s 2ms/step - loss: 0.3598 - accuracy: 0.8330 - val_loss: 0.4323 - val_accuracy: 0.7755\n",
      "Epoch 6/100\n",
      "86/86 [==============================] - 0s 2ms/step - loss: 0.3527 - accuracy: 0.8359 - val_loss: 0.4342 - val_accuracy: 0.7843\n",
      "Epoch 7/100\n",
      "86/86 [==============================] - 0s 2ms/step - loss: 0.3462 - accuracy: 0.8410 - val_loss: 0.4219 - val_accuracy: 0.7711\n",
      "Epoch 8/100\n",
      "86/86 [==============================] - 0s 2ms/step - loss: 0.3444 - accuracy: 0.8395 - val_loss: 0.4386 - val_accuracy: 0.7711\n",
      "Epoch 9/100\n",
      "86/86 [==============================] - 0s 2ms/step - loss: 0.3401 - accuracy: 0.8363 - val_loss: 0.4326 - val_accuracy: 0.7755\n",
      "Epoch 10/100\n",
      "86/86 [==============================] - 0s 2ms/step - loss: 0.3359 - accuracy: 0.8476 - val_loss: 0.4280 - val_accuracy: 0.7770\n",
      "Epoch 11/100\n",
      "86/86 [==============================] - 0s 2ms/step - loss: 0.3311 - accuracy: 0.8461 - val_loss: 0.4289 - val_accuracy: 0.7755\n",
      "Epoch 12/100\n",
      "86/86 [==============================] - 0s 2ms/step - loss: 0.3270 - accuracy: 0.8494 - val_loss: 0.4225 - val_accuracy: 0.7668\n",
      "Epoch 13/100\n",
      "86/86 [==============================] - 0s 2ms/step - loss: 0.3237 - accuracy: 0.8523 - val_loss: 0.4214 - val_accuracy: 0.7726\n",
      "Epoch 14/100\n",
      "86/86 [==============================] - 0s 2ms/step - loss: 0.3230 - accuracy: 0.8538 - val_loss: 0.4146 - val_accuracy: 0.7813\n",
      "Epoch 15/100\n",
      "86/86 [==============================] - 0s 2ms/step - loss: 0.3201 - accuracy: 0.8519 - val_loss: 0.4279 - val_accuracy: 0.7828\n",
      "Epoch 16/100\n",
      "86/86 [==============================] - 0s 2ms/step - loss: 0.3149 - accuracy: 0.8512 - val_loss: 0.4147 - val_accuracy: 0.7857\n",
      "Epoch 17/100\n",
      "86/86 [==============================] - 0s 2ms/step - loss: 0.3139 - accuracy: 0.8589 - val_loss: 0.4272 - val_accuracy: 0.7755\n",
      "Epoch 18/100\n",
      "86/86 [==============================] - 0s 2ms/step - loss: 0.3083 - accuracy: 0.8581 - val_loss: 0.4193 - val_accuracy: 0.7857\n",
      "Epoch 19/100\n",
      "86/86 [==============================] - 0s 2ms/step - loss: 0.3044 - accuracy: 0.8647 - val_loss: 0.4222 - val_accuracy: 0.7741\n",
      "Epoch 20/100\n",
      "86/86 [==============================] - 0s 2ms/step - loss: 0.3020 - accuracy: 0.8665 - val_loss: 0.4461 - val_accuracy: 0.7813\n",
      "Epoch 21/100\n",
      "86/86 [==============================] - 0s 2ms/step - loss: 0.3031 - accuracy: 0.8654 - val_loss: 0.4191 - val_accuracy: 0.7901\n",
      "Epoch 22/100\n",
      "86/86 [==============================] - 0s 2ms/step - loss: 0.2953 - accuracy: 0.8676 - val_loss: 0.4141 - val_accuracy: 0.7872\n",
      "Epoch 23/100\n",
      "86/86 [==============================] - 0s 2ms/step - loss: 0.2900 - accuracy: 0.8709 - val_loss: 0.4148 - val_accuracy: 0.7945\n",
      "Epoch 24/100\n",
      "86/86 [==============================] - 0s 2ms/step - loss: 0.2877 - accuracy: 0.8767 - val_loss: 0.4228 - val_accuracy: 0.8017\n",
      "Epoch 25/100\n",
      "86/86 [==============================] - 0s 2ms/step - loss: 0.2869 - accuracy: 0.8709 - val_loss: 0.4223 - val_accuracy: 0.7915\n",
      "Epoch 26/100\n",
      "86/86 [==============================] - 0s 2ms/step - loss: 0.2797 - accuracy: 0.8811 - val_loss: 0.4121 - val_accuracy: 0.7974\n",
      "Epoch 27/100\n",
      "86/86 [==============================] - 0s 2ms/step - loss: 0.2781 - accuracy: 0.8826 - val_loss: 0.4147 - val_accuracy: 0.7828\n",
      "Epoch 28/100\n",
      "86/86 [==============================] - 0s 2ms/step - loss: 0.2775 - accuracy: 0.8778 - val_loss: 0.4179 - val_accuracy: 0.7915\n",
      "Epoch 29/100\n",
      "86/86 [==============================] - 0s 2ms/step - loss: 0.2699 - accuracy: 0.8869 - val_loss: 0.4314 - val_accuracy: 0.7930\n",
      "Epoch 30/100\n",
      "86/86 [==============================] - 0s 2ms/step - loss: 0.2691 - accuracy: 0.8818 - val_loss: 0.4188 - val_accuracy: 0.7959\n",
      "Epoch 31/100\n",
      "86/86 [==============================] - 0s 2ms/step - loss: 0.2655 - accuracy: 0.8811 - val_loss: 0.4149 - val_accuracy: 0.7974\n",
      "Epoch 32/100\n",
      "86/86 [==============================] - 0s 2ms/step - loss: 0.2610 - accuracy: 0.8855 - val_loss: 0.4148 - val_accuracy: 0.7974\n",
      "Epoch 33/100\n",
      "86/86 [==============================] - 0s 2ms/step - loss: 0.2551 - accuracy: 0.8928 - val_loss: 0.4280 - val_accuracy: 0.8076\n",
      "Epoch 34/100\n",
      "86/86 [==============================] - 0s 2ms/step - loss: 0.2542 - accuracy: 0.8924 - val_loss: 0.4193 - val_accuracy: 0.7915\n",
      "Epoch 35/100\n",
      "86/86 [==============================] - 0s 2ms/step - loss: 0.2527 - accuracy: 0.8935 - val_loss: 0.4344 - val_accuracy: 0.7974\n",
      "Epoch 36/100\n",
      "86/86 [==============================] - 0s 2ms/step - loss: 0.2481 - accuracy: 0.8939 - val_loss: 0.4233 - val_accuracy: 0.8017\n",
      "Epoch 37/100\n",
      "86/86 [==============================] - 0s 2ms/step - loss: 0.2369 - accuracy: 0.9012 - val_loss: 0.4186 - val_accuracy: 0.8003\n",
      "Epoch 38/100\n",
      "86/86 [==============================] - 0s 2ms/step - loss: 0.2345 - accuracy: 0.9037 - val_loss: 0.4198 - val_accuracy: 0.7988\n",
      "Epoch 39/100\n",
      "86/86 [==============================] - 0s 2ms/step - loss: 0.2333 - accuracy: 0.9026 - val_loss: 0.4195 - val_accuracy: 0.7959\n",
      "Epoch 40/100\n",
      "86/86 [==============================] - 0s 2ms/step - loss: 0.2329 - accuracy: 0.9063 - val_loss: 0.4212 - val_accuracy: 0.7974\n",
      "Epoch 41/100\n",
      "86/86 [==============================] - 0s 2ms/step - loss: 0.2323 - accuracy: 0.9052 - val_loss: 0.4198 - val_accuracy: 0.7974\n",
      "Epoch 42/100\n",
      "86/86 [==============================] - 0s 2ms/step - loss: 0.2321 - accuracy: 0.9055 - val_loss: 0.4187 - val_accuracy: 0.7959\n",
      "Epoch 43/100\n",
      "86/86 [==============================] - 0s 2ms/step - loss: 0.2314 - accuracy: 0.9085 - val_loss: 0.4224 - val_accuracy: 0.7988\n",
      "Epoch 44/100\n",
      "86/86 [==============================] - 0s 2ms/step - loss: 0.2313 - accuracy: 0.9037 - val_loss: 0.4218 - val_accuracy: 0.7974\n",
      "Epoch 45/100\n",
      "86/86 [==============================] - 0s 2ms/step - loss: 0.2305 - accuracy: 0.9055 - val_loss: 0.4214 - val_accuracy: 0.7988\n",
      "Epoch 46/100\n",
      "86/86 [==============================] - 0s 2ms/step - loss: 0.2304 - accuracy: 0.9041 - val_loss: 0.4211 - val_accuracy: 0.7988\n",
      "Epoch 47/100\n",
      "86/86 [==============================] - 0s 2ms/step - loss: 0.2288 - accuracy: 0.9096 - val_loss: 0.4213 - val_accuracy: 0.7974\n",
      "Epoch 48/100\n",
      "86/86 [==============================] - 0s 2ms/step - loss: 0.2288 - accuracy: 0.9099 - val_loss: 0.4215 - val_accuracy: 0.7974\n",
      "Epoch 49/100\n",
      "86/86 [==============================] - 0s 2ms/step - loss: 0.2287 - accuracy: 0.9088 - val_loss: 0.4219 - val_accuracy: 0.7974\n",
      "Epoch 50/100\n",
      "86/86 [==============================] - 0s 2ms/step - loss: 0.2286 - accuracy: 0.9088 - val_loss: 0.4220 - val_accuracy: 0.7974\n",
      "Epoch 51/100\n",
      "86/86 [==============================] - 0s 2ms/step - loss: 0.2286 - accuracy: 0.9088 - val_loss: 0.4219 - val_accuracy: 0.7974\n",
      "Epoch 52/100\n",
      "86/86 [==============================] - 0s 2ms/step - loss: 0.2285 - accuracy: 0.9096 - val_loss: 0.4221 - val_accuracy: 0.7988\n",
      "Epoch 53/100\n",
      "86/86 [==============================] - 0s 2ms/step - loss: 0.2285 - accuracy: 0.9096 - val_loss: 0.4222 - val_accuracy: 0.7974\n",
      "Epoch 54/100\n",
      "86/86 [==============================] - 0s 2ms/step - loss: 0.2284 - accuracy: 0.9099 - val_loss: 0.4223 - val_accuracy: 0.7974\n",
      "Epoch 55/100\n",
      "86/86 [==============================] - 0s 2ms/step - loss: 0.2284 - accuracy: 0.9088 - val_loss: 0.4224 - val_accuracy: 0.7988\n",
      "Epoch 56/100\n",
      "86/86 [==============================] - 0s 2ms/step - loss: 0.2284 - accuracy: 0.9088 - val_loss: 0.4225 - val_accuracy: 0.7988\n",
      "Epoch 57/100\n",
      "86/86 [==============================] - 0s 2ms/step - loss: 0.2282 - accuracy: 0.9096 - val_loss: 0.4224 - val_accuracy: 0.7988\n",
      "Epoch 58/100\n",
      "86/86 [==============================] - 0s 2ms/step - loss: 0.2282 - accuracy: 0.9096 - val_loss: 0.4225 - val_accuracy: 0.7988\n",
      "Epoch 59/100\n",
      "86/86 [==============================] - 0s 2ms/step - loss: 0.2282 - accuracy: 0.9096 - val_loss: 0.4225 - val_accuracy: 0.7988\n",
      "Epoch 60/100\n",
      "86/86 [==============================] - 0s 2ms/step - loss: 0.2282 - accuracy: 0.9096 - val_loss: 0.4225 - val_accuracy: 0.7988\n",
      "Epoch 61/100\n",
      "86/86 [==============================] - 0s 2ms/step - loss: 0.2282 - accuracy: 0.9096 - val_loss: 0.4225 - val_accuracy: 0.7988\n",
      "Epoch 62/100\n",
      "86/86 [==============================] - 0s 2ms/step - loss: 0.2282 - accuracy: 0.9096 - val_loss: 0.4225 - val_accuracy: 0.7988\n",
      "Epoch 63/100\n",
      "86/86 [==============================] - 0s 2ms/step - loss: 0.2282 - accuracy: 0.9096 - val_loss: 0.4225 - val_accuracy: 0.7988\n",
      "Epoch 64/100\n",
      "86/86 [==============================] - 0s 2ms/step - loss: 0.2282 - accuracy: 0.9096 - val_loss: 0.4225 - val_accuracy: 0.7988\n",
      "Epoch 65/100\n",
      "86/86 [==============================] - 0s 2ms/step - loss: 0.2282 - accuracy: 0.9096 - val_loss: 0.4225 - val_accuracy: 0.7988\n",
      "Epoch 66/100\n",
      "86/86 [==============================] - 0s 2ms/step - loss: 0.2282 - accuracy: 0.9096 - val_loss: 0.4225 - val_accuracy: 0.7988\n",
      "Epoch 67/100\n",
      "86/86 [==============================] - 0s 2ms/step - loss: 0.2281 - accuracy: 0.9096 - val_loss: 0.4225 - val_accuracy: 0.7988\n",
      "Epoch 68/100\n",
      "86/86 [==============================] - 0s 2ms/step - loss: 0.2281 - accuracy: 0.9096 - val_loss: 0.4225 - val_accuracy: 0.7988\n",
      "Epoch 69/100\n",
      "86/86 [==============================] - 0s 2ms/step - loss: 0.2281 - accuracy: 0.9096 - val_loss: 0.4225 - val_accuracy: 0.7988\n",
      "Epoch 70/100\n",
      "86/86 [==============================] - 0s 2ms/step - loss: 0.2281 - accuracy: 0.9096 - val_loss: 0.4225 - val_accuracy: 0.7988\n",
      "Epoch 71/100\n",
      "86/86 [==============================] - 0s 2ms/step - loss: 0.2281 - accuracy: 0.9096 - val_loss: 0.4225 - val_accuracy: 0.7988\n",
      "Epoch 72/100\n",
      "86/86 [==============================] - 0s 2ms/step - loss: 0.2281 - accuracy: 0.9096 - val_loss: 0.4225 - val_accuracy: 0.7988\n",
      "Epoch 73/100\n",
      "86/86 [==============================] - 0s 2ms/step - loss: 0.2281 - accuracy: 0.9096 - val_loss: 0.4225 - val_accuracy: 0.7988\n",
      "Epoch 74/100\n",
      "86/86 [==============================] - 0s 2ms/step - loss: 0.2281 - accuracy: 0.9096 - val_loss: 0.4225 - val_accuracy: 0.7988\n",
      "Epoch 75/100\n",
      "86/86 [==============================] - 0s 2ms/step - loss: 0.2281 - accuracy: 0.9096 - val_loss: 0.4225 - val_accuracy: 0.7988\n",
      "Epoch 76/100\n",
      "86/86 [==============================] - 0s 2ms/step - loss: 0.2281 - accuracy: 0.9096 - val_loss: 0.4225 - val_accuracy: 0.7988\n",
      "Epoch 77/100\n",
      "86/86 [==============================] - 0s 2ms/step - loss: 0.2281 - accuracy: 0.9096 - val_loss: 0.4225 - val_accuracy: 0.7988\n",
      "Epoch 78/100\n",
      "86/86 [==============================] - 0s 2ms/step - loss: 0.2281 - accuracy: 0.9096 - val_loss: 0.4225 - val_accuracy: 0.7988\n",
      "Epoch 79/100\n",
      "86/86 [==============================] - 0s 2ms/step - loss: 0.2281 - accuracy: 0.9096 - val_loss: 0.4225 - val_accuracy: 0.7988\n",
      "Epoch 80/100\n",
      "86/86 [==============================] - 0s 2ms/step - loss: 0.2281 - accuracy: 0.9096 - val_loss: 0.4225 - val_accuracy: 0.7988\n",
      "Epoch 81/100\n",
      "86/86 [==============================] - 0s 2ms/step - loss: 0.2281 - accuracy: 0.9096 - val_loss: 0.4225 - val_accuracy: 0.7988\n",
      "Epoch 82/100\n",
      "86/86 [==============================] - 0s 2ms/step - loss: 0.2281 - accuracy: 0.9096 - val_loss: 0.4225 - val_accuracy: 0.7988\n",
      "Epoch 83/100\n",
      "86/86 [==============================] - 0s 2ms/step - loss: 0.2281 - accuracy: 0.9096 - val_loss: 0.4225 - val_accuracy: 0.7988\n",
      "Epoch 84/100\n",
      "86/86 [==============================] - 0s 2ms/step - loss: 0.2281 - accuracy: 0.9096 - val_loss: 0.4225 - val_accuracy: 0.7988\n",
      "Epoch 85/100\n",
      "86/86 [==============================] - 0s 2ms/step - loss: 0.2281 - accuracy: 0.9096 - val_loss: 0.4225 - val_accuracy: 0.7988\n",
      "Epoch 86/100\n",
      "86/86 [==============================] - 0s 2ms/step - loss: 0.2281 - accuracy: 0.9096 - val_loss: 0.4225 - val_accuracy: 0.7988\n",
      "Epoch 87/100\n",
      "86/86 [==============================] - 0s 2ms/step - loss: 0.2281 - accuracy: 0.9096 - val_loss: 0.4225 - val_accuracy: 0.7988\n",
      "Epoch 88/100\n",
      "86/86 [==============================] - 0s 2ms/step - loss: 0.2281 - accuracy: 0.9096 - val_loss: 0.4225 - val_accuracy: 0.7988\n",
      "Epoch 89/100\n",
      "86/86 [==============================] - 0s 2ms/step - loss: 0.2281 - accuracy: 0.9096 - val_loss: 0.4225 - val_accuracy: 0.7988\n",
      "Epoch 90/100\n",
      "86/86 [==============================] - 0s 2ms/step - loss: 0.2281 - accuracy: 0.9096 - val_loss: 0.4225 - val_accuracy: 0.7988\n",
      "Epoch 91/100\n",
      "86/86 [==============================] - 0s 2ms/step - loss: 0.2281 - accuracy: 0.9096 - val_loss: 0.4225 - val_accuracy: 0.7988\n",
      "Epoch 92/100\n",
      "86/86 [==============================] - 0s 2ms/step - loss: 0.2281 - accuracy: 0.9096 - val_loss: 0.4225 - val_accuracy: 0.7988\n",
      "Epoch 93/100\n",
      "86/86 [==============================] - 0s 2ms/step - loss: 0.2281 - accuracy: 0.9096 - val_loss: 0.4225 - val_accuracy: 0.7988\n",
      "Epoch 94/100\n",
      "86/86 [==============================] - 0s 2ms/step - loss: 0.2281 - accuracy: 0.9096 - val_loss: 0.4225 - val_accuracy: 0.7988\n",
      "Epoch 95/100\n",
      "86/86 [==============================] - 0s 2ms/step - loss: 0.2281 - accuracy: 0.9096 - val_loss: 0.4225 - val_accuracy: 0.7988\n",
      "Epoch 96/100\n",
      "86/86 [==============================] - 0s 2ms/step - loss: 0.2281 - accuracy: 0.9096 - val_loss: 0.4225 - val_accuracy: 0.7988\n",
      "Epoch 97/100\n",
      "86/86 [==============================] - 0s 2ms/step - loss: 0.2281 - accuracy: 0.9096 - val_loss: 0.4225 - val_accuracy: 0.7988\n",
      "Epoch 98/100\n",
      "86/86 [==============================] - 0s 2ms/step - loss: 0.2281 - accuracy: 0.9096 - val_loss: 0.4225 - val_accuracy: 0.7988\n",
      "Epoch 99/100\n",
      "86/86 [==============================] - 0s 2ms/step - loss: 0.2281 - accuracy: 0.9096 - val_loss: 0.4225 - val_accuracy: 0.7988\n",
      "Epoch 100/100\n",
      "86/86 [==============================] - 0s 2ms/step - loss: 0.2281 - accuracy: 0.9096 - val_loss: 0.4225 - val_accuracy: 0.7988\n"
     ]
    }
   ],
   "source": [
    "inputs = tf.keras.Input(shape=(num_features,))\n",
    "x = tf.keras.layers.Dense(64, activation='relu')(inputs)\n",
    "x = tf.keras.layers.Dense(64, activation='relu')(x)\n",
    "outputs = tf.keras.layers.Dense(1, activation='sigmoid')(x)\n",
    "\n",
    "model = tf.keras.Model(inputs=inputs, outputs=outputs)\n",
    "\n",
    "\n",
    "model.compile(\n",
    "    optimizer='adam',\n",
    "    loss='binary_crossentropy',\n",
    "    metrics=['accuracy']\n",
    ")\n",
    "\n",
    "\n",
    "batch_size = 32\n",
    "epochs = 100\n",
    "\n",
    "history = model.fit(\n",
    "    X_train,\n",
    "    y_train,\n",
    "    validation_split=0.2,\n",
    "    batch_size=batch_size,\n",
    "    epochs=epochs,\n",
    "    callbacks=[tf.keras.callbacks.ReduceLROnPlateau()]\n",
    ")"
   ]
  },
  {
   "cell_type": "code",
   "execution_count": 24,
   "metadata": {
    "execution": {
     "iopub.execute_input": "2020-10-03T16:52:58.232777Z",
     "iopub.status.busy": "2020-10-03T16:52:58.230938Z",
     "iopub.status.idle": "2020-10-03T16:52:58.300891Z",
     "shell.execute_reply": "2020-10-03T16:52:58.300027Z"
    },
    "papermill": {
     "duration": 0.560681,
     "end_time": "2020-10-03T16:52:58.301037",
     "exception": false,
     "start_time": "2020-10-03T16:52:57.740356",
     "status": "completed"
    },
    "tags": []
   },
   "outputs": [
    {
     "data": {
      "text/html": [
       "<div>                            <div id=\"ad0a9c9f-93b6-4853-8338-59894e3f8357\" class=\"plotly-graph-div\" style=\"height:525px; width:100%;\"></div>            <script type=\"text/javascript\">                require([\"plotly\"], function(Plotly) {                    window.PLOTLYENV=window.PLOTLYENV || {};                                    if (document.getElementById(\"ad0a9c9f-93b6-4853-8338-59894e3f8357\")) {                    Plotly.newPlot(                        \"ad0a9c9f-93b6-4853-8338-59894e3f8357\",                        [{\"hovertemplate\": \"variable=loss<br>index=%{x}<br>value=%{y}<extra></extra>\", \"legendgroup\": \"loss\", \"line\": {\"color\": \"#636efa\", \"dash\": \"solid\"}, \"mode\": \"lines\", \"name\": \"loss\", \"orientation\": \"v\", \"showlegend\": true, \"type\": \"scatter\", \"x\": [0, 1, 2, 3, 4, 5, 6, 7, 8, 9, 10, 11, 12, 13, 14, 15, 16, 17, 18, 19, 20, 21, 22, 23, 24, 25, 26, 27, 28, 29, 30, 31, 32, 33, 34, 35, 36, 37, 38, 39, 40, 41, 42, 43, 44, 45, 46, 47, 48, 49, 50, 51, 52, 53, 54, 55, 56, 57, 58, 59, 60, 61, 62, 63, 64, 65, 66, 67, 68, 69, 70, 71, 72, 73, 74, 75, 76, 77, 78, 79, 80, 81, 82, 83, 84, 85, 86, 87, 88, 89, 90, 91, 92, 93, 94, 95, 96, 97, 98, 99], \"xaxis\": \"x\", \"y\": [0.4658539593219757, 0.39905333518981934, 0.3784109354019165, 0.36796557903289795, 0.3597642481327057, 0.3527047038078308, 0.3462291657924652, 0.34436410665512085, 0.34008777141571045, 0.3359205424785614, 0.3311236798763275, 0.326961487531662, 0.32366544008255005, 0.3230156898498535, 0.32011502981185913, 0.3149445056915283, 0.31390926241874695, 0.30826467275619507, 0.3043769598007202, 0.30200129747390747, 0.3031211197376251, 0.29528385400772095, 0.2899519205093384, 0.28773966431617737, 0.2869409918785095, 0.2796976566314697, 0.2781186103820801, 0.2774794101715088, 0.2699131965637207, 0.26911577582359314, 0.26554518938064575, 0.261025607585907, 0.25514137744903564, 0.2542358338832855, 0.25267043709754944, 0.24810655415058136, 0.23688529431819916, 0.2344539761543274, 0.2333259880542755, 0.23286668956279755, 0.23229922354221344, 0.23214933276176453, 0.23143476247787476, 0.23125268518924713, 0.23048877716064453, 0.2303924709558487, 0.2288268357515335, 0.22875088453292847, 0.22870084643363953, 0.22863160073757172, 0.2285502403974533, 0.2285335212945938, 0.22850967943668365, 0.2284349799156189, 0.22842691838741302, 0.22836938500404358, 0.228190079331398, 0.22818376123905182, 0.22818008065223694, 0.228176549077034, 0.2281751036643982, 0.22816753387451172, 0.2281627655029297, 0.228159561753273, 0.22815589606761932, 0.22815582156181335, 0.22813650965690613, 0.22813615202903748, 0.22813597321510315, 0.22813557088375092, 0.2281356155872345, 0.22813467681407928, 0.2281346172094345, 0.22813472151756287, 0.2281336933374405, 0.22813329100608826, 0.22813160717487335, 0.22813153266906738, 0.2281314879655838, 0.22813162207603455, 0.2281314879655838, 0.22813156247138977, 0.22813157737255096, 0.22813157737255096, 0.2281314879655838, 0.22813153266906738, 0.22813142836093903, 0.2281314581632614, 0.2281314581632614, 0.22813142836093903, 0.2281314730644226, 0.22813142836093903, 0.2281314730644226, 0.22813142836093903, 0.2281314730644226, 0.2281314581632614, 0.2281314581632614, 0.2281314581632614, 0.2281314581632614, 0.2281314730644226], \"yaxis\": \"y\"}, {\"hovertemplate\": \"variable=val_loss<br>index=%{x}<br>value=%{y}<extra></extra>\", \"legendgroup\": \"val_loss\", \"line\": {\"color\": \"#EF553B\", \"dash\": \"solid\"}, \"mode\": \"lines\", \"name\": \"val_loss\", \"orientation\": \"v\", \"showlegend\": true, \"type\": \"scatter\", \"x\": [0, 1, 2, 3, 4, 5, 6, 7, 8, 9, 10, 11, 12, 13, 14, 15, 16, 17, 18, 19, 20, 21, 22, 23, 24, 25, 26, 27, 28, 29, 30, 31, 32, 33, 34, 35, 36, 37, 38, 39, 40, 41, 42, 43, 44, 45, 46, 47, 48, 49, 50, 51, 52, 53, 54, 55, 56, 57, 58, 59, 60, 61, 62, 63, 64, 65, 66, 67, 68, 69, 70, 71, 72, 73, 74, 75, 76, 77, 78, 79, 80, 81, 82, 83, 84, 85, 86, 87, 88, 89, 90, 91, 92, 93, 94, 95, 96, 97, 98, 99], \"xaxis\": \"x\", \"y\": [0.47066450119018555, 0.44261297583580017, 0.44192206859588623, 0.42743802070617676, 0.4322982728481293, 0.43424728512763977, 0.4218734800815582, 0.43864601850509644, 0.4326479732990265, 0.42797157168388367, 0.4289042353630066, 0.4224535822868347, 0.42140209674835205, 0.41458365321159363, 0.4279059171676636, 0.4147294759750366, 0.42715218663215637, 0.4193108081817627, 0.4222273826599121, 0.4461252689361572, 0.41910964250564575, 0.4141342043876648, 0.4147706627845764, 0.42276039719581604, 0.42227697372436523, 0.41213637590408325, 0.41466832160949707, 0.417939156293869, 0.43140965700149536, 0.4187554121017456, 0.41490212082862854, 0.4148363769054413, 0.4279666244983673, 0.41932716965675354, 0.4344078004360199, 0.42326444387435913, 0.4185938239097595, 0.41984793543815613, 0.4194721579551697, 0.4211568534374237, 0.4198290705680847, 0.41868385672569275, 0.4223819077014923, 0.4217637777328491, 0.4213748872280121, 0.4211178123950958, 0.42127248644828796, 0.4214731454849243, 0.42188599705696106, 0.42198851704597473, 0.42194271087646484, 0.42210516333580017, 0.4221925437450409, 0.4222675561904907, 0.4223788380622864, 0.4224698841571808, 0.4224364757537842, 0.4224517345428467, 0.42245951294898987, 0.4224646985530853, 0.42246171832084656, 0.4224851429462433, 0.4224647581577301, 0.42245444655418396, 0.4224865138530731, 0.4224739670753479, 0.42247334122657776, 0.422473281621933, 0.4224744439125061, 0.42247605323791504, 0.42247575521469116, 0.42247533798217773, 0.4224749803543091, 0.42247524857521057, 0.42247557640075684, 0.4224783182144165, 0.4224782884120941, 0.42247822880744934, 0.42247819900512695, 0.4224783182144165, 0.42247819900512695, 0.42247819900512695, 0.42247822880744934, 0.42247819900512695, 0.42247819900512695, 0.4224781095981598, 0.4224781095981598, 0.4224781095981598, 0.4224781095981598, 0.4224781095981598, 0.4224781095981598, 0.4224781095981598, 0.4224781095981598, 0.4224781095981598, 0.4224781095981598, 0.4224781095981598, 0.4224781095981598, 0.4224781095981598, 0.4224781095981598, 0.4224781095981598], \"yaxis\": \"y\"}],                        {\"legend\": {\"title\": {\"text\": \"variable\"}, \"tracegroupgap\": 0}, \"template\": {\"data\": {\"bar\": [{\"error_x\": {\"color\": \"#2a3f5f\"}, \"error_y\": {\"color\": \"#2a3f5f\"}, \"marker\": {\"line\": {\"color\": \"#E5ECF6\", \"width\": 0.5}}, \"type\": \"bar\"}], \"barpolar\": [{\"marker\": {\"line\": {\"color\": \"#E5ECF6\", \"width\": 0.5}}, \"type\": \"barpolar\"}], \"carpet\": [{\"aaxis\": {\"endlinecolor\": \"#2a3f5f\", \"gridcolor\": \"white\", \"linecolor\": \"white\", \"minorgridcolor\": \"white\", \"startlinecolor\": \"#2a3f5f\"}, \"baxis\": {\"endlinecolor\": \"#2a3f5f\", \"gridcolor\": \"white\", \"linecolor\": \"white\", \"minorgridcolor\": \"white\", \"startlinecolor\": \"#2a3f5f\"}, \"type\": \"carpet\"}], \"choropleth\": [{\"colorbar\": {\"outlinewidth\": 0, \"ticks\": \"\"}, \"type\": \"choropleth\"}], \"contour\": [{\"colorbar\": {\"outlinewidth\": 0, \"ticks\": \"\"}, \"colorscale\": [[0.0, \"#0d0887\"], [0.1111111111111111, \"#46039f\"], [0.2222222222222222, \"#7201a8\"], [0.3333333333333333, \"#9c179e\"], [0.4444444444444444, \"#bd3786\"], [0.5555555555555556, \"#d8576b\"], [0.6666666666666666, \"#ed7953\"], [0.7777777777777778, \"#fb9f3a\"], [0.8888888888888888, \"#fdca26\"], [1.0, \"#f0f921\"]], \"type\": \"contour\"}], \"contourcarpet\": [{\"colorbar\": {\"outlinewidth\": 0, \"ticks\": \"\"}, \"type\": \"contourcarpet\"}], \"heatmap\": [{\"colorbar\": {\"outlinewidth\": 0, \"ticks\": \"\"}, \"colorscale\": [[0.0, \"#0d0887\"], [0.1111111111111111, \"#46039f\"], [0.2222222222222222, \"#7201a8\"], [0.3333333333333333, \"#9c179e\"], [0.4444444444444444, \"#bd3786\"], [0.5555555555555556, \"#d8576b\"], [0.6666666666666666, \"#ed7953\"], [0.7777777777777778, \"#fb9f3a\"], [0.8888888888888888, \"#fdca26\"], [1.0, \"#f0f921\"]], \"type\": \"heatmap\"}], \"heatmapgl\": [{\"colorbar\": {\"outlinewidth\": 0, \"ticks\": \"\"}, \"colorscale\": [[0.0, \"#0d0887\"], [0.1111111111111111, \"#46039f\"], [0.2222222222222222, \"#7201a8\"], [0.3333333333333333, \"#9c179e\"], [0.4444444444444444, \"#bd3786\"], [0.5555555555555556, \"#d8576b\"], [0.6666666666666666, \"#ed7953\"], [0.7777777777777778, \"#fb9f3a\"], [0.8888888888888888, \"#fdca26\"], [1.0, \"#f0f921\"]], \"type\": \"heatmapgl\"}], \"histogram\": [{\"marker\": {\"colorbar\": {\"outlinewidth\": 0, \"ticks\": \"\"}}, \"type\": \"histogram\"}], \"histogram2d\": [{\"colorbar\": {\"outlinewidth\": 0, \"ticks\": \"\"}, \"colorscale\": [[0.0, \"#0d0887\"], [0.1111111111111111, \"#46039f\"], [0.2222222222222222, \"#7201a8\"], [0.3333333333333333, \"#9c179e\"], [0.4444444444444444, \"#bd3786\"], [0.5555555555555556, \"#d8576b\"], [0.6666666666666666, \"#ed7953\"], [0.7777777777777778, \"#fb9f3a\"], [0.8888888888888888, \"#fdca26\"], [1.0, \"#f0f921\"]], \"type\": \"histogram2d\"}], \"histogram2dcontour\": [{\"colorbar\": {\"outlinewidth\": 0, \"ticks\": \"\"}, \"colorscale\": [[0.0, \"#0d0887\"], [0.1111111111111111, \"#46039f\"], [0.2222222222222222, \"#7201a8\"], [0.3333333333333333, \"#9c179e\"], [0.4444444444444444, \"#bd3786\"], [0.5555555555555556, \"#d8576b\"], [0.6666666666666666, \"#ed7953\"], [0.7777777777777778, \"#fb9f3a\"], [0.8888888888888888, \"#fdca26\"], [1.0, \"#f0f921\"]], \"type\": \"histogram2dcontour\"}], \"mesh3d\": [{\"colorbar\": {\"outlinewidth\": 0, \"ticks\": \"\"}, \"type\": \"mesh3d\"}], \"parcoords\": [{\"line\": {\"colorbar\": {\"outlinewidth\": 0, \"ticks\": \"\"}}, \"type\": \"parcoords\"}], \"pie\": [{\"automargin\": true, \"type\": \"pie\"}], \"scatter\": [{\"marker\": {\"colorbar\": {\"outlinewidth\": 0, \"ticks\": \"\"}}, \"type\": \"scatter\"}], \"scatter3d\": [{\"line\": {\"colorbar\": {\"outlinewidth\": 0, \"ticks\": \"\"}}, \"marker\": {\"colorbar\": {\"outlinewidth\": 0, \"ticks\": \"\"}}, \"type\": \"scatter3d\"}], \"scattercarpet\": [{\"marker\": {\"colorbar\": {\"outlinewidth\": 0, \"ticks\": \"\"}}, \"type\": \"scattercarpet\"}], \"scattergeo\": [{\"marker\": {\"colorbar\": {\"outlinewidth\": 0, \"ticks\": \"\"}}, \"type\": \"scattergeo\"}], \"scattergl\": [{\"marker\": {\"colorbar\": {\"outlinewidth\": 0, \"ticks\": \"\"}}, \"type\": \"scattergl\"}], \"scattermapbox\": [{\"marker\": {\"colorbar\": {\"outlinewidth\": 0, \"ticks\": \"\"}}, \"type\": \"scattermapbox\"}], \"scatterpolar\": [{\"marker\": {\"colorbar\": {\"outlinewidth\": 0, \"ticks\": \"\"}}, \"type\": \"scatterpolar\"}], \"scatterpolargl\": [{\"marker\": {\"colorbar\": {\"outlinewidth\": 0, \"ticks\": \"\"}}, \"type\": \"scatterpolargl\"}], \"scatterternary\": [{\"marker\": {\"colorbar\": {\"outlinewidth\": 0, \"ticks\": \"\"}}, \"type\": \"scatterternary\"}], \"surface\": [{\"colorbar\": {\"outlinewidth\": 0, \"ticks\": \"\"}, \"colorscale\": [[0.0, \"#0d0887\"], [0.1111111111111111, \"#46039f\"], [0.2222222222222222, \"#7201a8\"], [0.3333333333333333, \"#9c179e\"], [0.4444444444444444, \"#bd3786\"], [0.5555555555555556, \"#d8576b\"], [0.6666666666666666, \"#ed7953\"], [0.7777777777777778, \"#fb9f3a\"], [0.8888888888888888, \"#fdca26\"], [1.0, \"#f0f921\"]], \"type\": \"surface\"}], \"table\": [{\"cells\": {\"fill\": {\"color\": \"#EBF0F8\"}, \"line\": {\"color\": \"white\"}}, \"header\": {\"fill\": {\"color\": \"#C8D4E3\"}, \"line\": {\"color\": \"white\"}}, \"type\": \"table\"}]}, \"layout\": {\"annotationdefaults\": {\"arrowcolor\": \"#2a3f5f\", \"arrowhead\": 0, \"arrowwidth\": 1}, \"coloraxis\": {\"colorbar\": {\"outlinewidth\": 0, \"ticks\": \"\"}}, \"colorscale\": {\"diverging\": [[0, \"#8e0152\"], [0.1, \"#c51b7d\"], [0.2, \"#de77ae\"], [0.3, \"#f1b6da\"], [0.4, \"#fde0ef\"], [0.5, \"#f7f7f7\"], [0.6, \"#e6f5d0\"], [0.7, \"#b8e186\"], [0.8, \"#7fbc41\"], [0.9, \"#4d9221\"], [1, \"#276419\"]], \"sequential\": [[0.0, \"#0d0887\"], [0.1111111111111111, \"#46039f\"], [0.2222222222222222, \"#7201a8\"], [0.3333333333333333, \"#9c179e\"], [0.4444444444444444, \"#bd3786\"], [0.5555555555555556, \"#d8576b\"], [0.6666666666666666, \"#ed7953\"], [0.7777777777777778, \"#fb9f3a\"], [0.8888888888888888, \"#fdca26\"], [1.0, \"#f0f921\"]], \"sequentialminus\": [[0.0, \"#0d0887\"], [0.1111111111111111, \"#46039f\"], [0.2222222222222222, \"#7201a8\"], [0.3333333333333333, \"#9c179e\"], [0.4444444444444444, \"#bd3786\"], [0.5555555555555556, \"#d8576b\"], [0.6666666666666666, \"#ed7953\"], [0.7777777777777778, \"#fb9f3a\"], [0.8888888888888888, \"#fdca26\"], [1.0, \"#f0f921\"]]}, \"colorway\": [\"#636efa\", \"#EF553B\", \"#00cc96\", \"#ab63fa\", \"#FFA15A\", \"#19d3f3\", \"#FF6692\", \"#B6E880\", \"#FF97FF\", \"#FECB52\"], \"font\": {\"color\": \"#2a3f5f\"}, \"geo\": {\"bgcolor\": \"white\", \"lakecolor\": \"white\", \"landcolor\": \"#E5ECF6\", \"showlakes\": true, \"showland\": true, \"subunitcolor\": \"white\"}, \"hoverlabel\": {\"align\": \"left\"}, \"hovermode\": \"closest\", \"mapbox\": {\"style\": \"light\"}, \"paper_bgcolor\": \"white\", \"plot_bgcolor\": \"#E5ECF6\", \"polar\": {\"angularaxis\": {\"gridcolor\": \"white\", \"linecolor\": \"white\", \"ticks\": \"\"}, \"bgcolor\": \"#E5ECF6\", \"radialaxis\": {\"gridcolor\": \"white\", \"linecolor\": \"white\", \"ticks\": \"\"}}, \"scene\": {\"xaxis\": {\"backgroundcolor\": \"#E5ECF6\", \"gridcolor\": \"white\", \"gridwidth\": 2, \"linecolor\": \"white\", \"showbackground\": true, \"ticks\": \"\", \"zerolinecolor\": \"white\"}, \"yaxis\": {\"backgroundcolor\": \"#E5ECF6\", \"gridcolor\": \"white\", \"gridwidth\": 2, \"linecolor\": \"white\", \"showbackground\": true, \"ticks\": \"\", \"zerolinecolor\": \"white\"}, \"zaxis\": {\"backgroundcolor\": \"#E5ECF6\", \"gridcolor\": \"white\", \"gridwidth\": 2, \"linecolor\": \"white\", \"showbackground\": true, \"ticks\": \"\", \"zerolinecolor\": \"white\"}}, \"shapedefaults\": {\"line\": {\"color\": \"#2a3f5f\"}}, \"ternary\": {\"aaxis\": {\"gridcolor\": \"white\", \"linecolor\": \"white\", \"ticks\": \"\"}, \"baxis\": {\"gridcolor\": \"white\", \"linecolor\": \"white\", \"ticks\": \"\"}, \"bgcolor\": \"#E5ECF6\", \"caxis\": {\"gridcolor\": \"white\", \"linecolor\": \"white\", \"ticks\": \"\"}}, \"title\": {\"x\": 0.05}, \"xaxis\": {\"automargin\": true, \"gridcolor\": \"white\", \"linecolor\": \"white\", \"ticks\": \"\", \"title\": {\"standoff\": 15}, \"zerolinecolor\": \"white\", \"zerolinewidth\": 2}, \"yaxis\": {\"automargin\": true, \"gridcolor\": \"white\", \"linecolor\": \"white\", \"ticks\": \"\", \"title\": {\"standoff\": 15}, \"zerolinecolor\": \"white\", \"zerolinewidth\": 2}}}, \"title\": {\"text\": \"Loss Over Time\"}, \"xaxis\": {\"anchor\": \"y\", \"domain\": [0.0, 1.0], \"title\": {\"text\": \"index\"}}, \"yaxis\": {\"anchor\": \"x\", \"domain\": [0.0, 1.0], \"title\": {\"text\": \"value\"}}},                        {\"responsive\": true}                    ).then(function(){\n",
       "                            \n",
       "var gd = document.getElementById('ad0a9c9f-93b6-4853-8338-59894e3f8357');\n",
       "var x = new MutationObserver(function (mutations, observer) {{\n",
       "        var display = window.getComputedStyle(gd).display;\n",
       "        if (!display || display === 'none') {{\n",
       "            console.log([gd, 'removed!']);\n",
       "            Plotly.purge(gd);\n",
       "            observer.disconnect();\n",
       "        }}\n",
       "}});\n",
       "\n",
       "// Listen for the removal of the full notebook cells\n",
       "var notebookContainer = gd.closest('#notebook-container');\n",
       "if (notebookContainer) {{\n",
       "    x.observe(notebookContainer, {childList: true});\n",
       "}}\n",
       "\n",
       "// Listen for the clearing of the current output cell\n",
       "var outputEl = gd.closest('.output');\n",
       "if (outputEl) {{\n",
       "    x.observe(outputEl, {childList: true});\n",
       "}}\n",
       "\n",
       "                        })                };                });            </script>        </div>"
      ]
     },
     "metadata": {},
     "output_type": "display_data"
    }
   ],
   "source": [
    "fig = px.line(\n",
    "    history.history,\n",
    "    y=['loss', 'val_loss'],\n",
    "    labels={'x': \"Epoch\", 'y': \"Loss\"},\n",
    "    title=\"Loss Over Time\"\n",
    ")\n",
    "\n",
    "fig.show()"
   ]
  },
  {
   "cell_type": "code",
   "execution_count": 25,
   "metadata": {
    "execution": {
     "iopub.execute_input": "2020-10-03T16:52:59.030719Z",
     "iopub.status.busy": "2020-10-03T16:52:59.029636Z",
     "iopub.status.idle": "2020-10-03T16:52:59.145071Z",
     "shell.execute_reply": "2020-10-03T16:52:59.144336Z"
    },
    "papermill": {
     "duration": 0.483234,
     "end_time": "2020-10-03T16:52:59.145230",
     "exception": false,
     "start_time": "2020-10-03T16:52:58.661996",
     "status": "completed"
    },
    "tags": []
   },
   "outputs": [
    {
     "name": "stdout",
     "output_type": "stream",
     "text": [
      "46/46 [==============================] - 0s 1ms/step - loss: 0.3666 - accuracy: 0.8408\n"
     ]
    },
    {
     "data": {
      "text/plain": [
       "[0.3665817081928253, 0.8408163189888]"
      ]
     },
     "execution_count": 25,
     "metadata": {},
     "output_type": "execute_result"
    }
   ],
   "source": [
    "model.evaluate(X_test, y_test)"
   ]
  },
  {
   "cell_type": "markdown",
   "metadata": {
    "papermill": {
     "duration": 0.432279,
     "end_time": "2020-10-03T16:52:59.939152",
     "exception": false,
     "start_time": "2020-10-03T16:52:59.506873",
     "status": "completed"
    },
    "tags": []
   },
   "source": [
    "# Data Every Day  \n",
    "\n",
    "This notebook is featured on Data Every Day, a YouTube series where I train models on a new dataset each day.  \n",
    "\n",
    "***\n",
    "\n",
    "Check it out!  \n",
    "https://youtu.be/gybAf1Jv2M8"
   ]
  }
 ],
 "metadata": {
  "kernelspec": {
   "display_name": "Python 3",
   "language": "python",
   "name": "python3"
  },
  "language_info": {
   "codemirror_mode": {
    "name": "ipython",
    "version": 3
   },
   "file_extension": ".py",
   "mimetype": "text/x-python",
   "name": "python",
   "nbconvert_exporter": "python",
   "pygments_lexer": "ipython3",
   "version": "3.7.6"
  },
  "papermill": {
   "duration": 60.183045,
   "end_time": "2020-10-03T16:53:00.414087",
   "environment_variables": {},
   "exception": null,
   "input_path": "__notebook__.ipynb",
   "output_path": "__notebook__.ipynb",
   "parameters": {},
   "start_time": "2020-10-03T16:52:00.231042",
   "version": "2.1.0"
  }
 },
 "nbformat": 4,
 "nbformat_minor": 4
}
